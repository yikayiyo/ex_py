{
  "nbformat": 4,
  "nbformat_minor": 0,
  "metadata": {
    "colab": {
      "name": "stacking",
      "version": "0.3.2",
      "provenance": [],
      "include_colab_link": true
    },
    "kernelspec": {
      "name": "python3",
      "display_name": "Python 3"
    }
  },
  "cells": [
    {
      "cell_type": "markdown",
      "metadata": {
        "id": "view-in-github",
        "colab_type": "text"
      },
      "source": [
        "[View in Colaboratory](https://colab.research.google.com/github/yikayiyo/yikayiyo_py/blob/master/stacking.ipynb)"
      ]
    },
    {
      "metadata": {
        "id": "klLgNNYblnoM",
        "colab_type": "text"
      },
      "cell_type": "markdown",
      "source": [
        "It is based on a simple idea: instead of using trivial functions (such as hard voting) to aggregate the predictions of all predictors in an ensemble, why don’t we **train a model to perform this aggregation**.  \n",
        "\n",
        "一种common方法，使用hold-out set.  \n",
        "训练数据被分为两个子集，第一个子集用来训练第一层的学习器，这些学习器在第二个数据集上预测会得到一些结果（有几个学习器就是有几个结果），形成了一个个向量。  \n",
        "然后使用这些向量作为样本特征，标签还是原来的标签，训练blender(搅拌器，即第二层的模型)，预测结果。\n",
        "\n",
        "\n",
        "一般这样的搅拌器可以训练很多个（可以使用不同的算法，得到不同的搅拌器）\n",
        "结合搅拌器的结果，输出最终预测  \n",
        "这种情况下数据集需要被分为三个集合，第一个集合训练第一层的学习器，第二个集合训练第二层的搅拌器，第三个集合训练第三层最终的meta-learner  \n",
        "\n",
        "开源的stacking包，有deslib（py）、stackNet（java）"
      ]
    },
    {
      "metadata": {
        "id": "mi4aukw6lyd1",
        "colab_type": "code",
        "colab": {
          "base_uri": "https://localhost:8080/",
          "height": 87
        },
        "outputId": "7d654733-d3a4-404b-8208-29f21da60730"
      },
      "cell_type": "code",
      "source": [
        "! pip install deslib"
      ],
      "execution_count": 56,
      "outputs": [
        {
          "output_type": "stream",
          "text": [
            "Requirement already satisfied: deslib in /usr/local/lib/python3.6/dist-packages (0.2)\r\n",
            "Requirement already satisfied: numpy>=1.10.4 in /usr/local/lib/python3.6/dist-packages (from deslib) (1.14.5)\r\n",
            "Requirement already satisfied: scikit-learn>=0.19.0 in /usr/local/lib/python3.6/dist-packages (from deslib) (0.19.2)\r\n",
            "Requirement already satisfied: scipy>=0.13.3 in /usr/local/lib/python3.6/dist-packages (from deslib) (0.19.1)\r\n"
          ],
          "name": "stdout"
        }
      ]
    },
    {
      "metadata": {
        "id": "wpmeMDqZo3VS",
        "colab_type": "code",
        "colab": {}
      },
      "cell_type": "code",
      "source": [
        "from sklearn.datasets import load_breast_cancer\n",
        "from sklearn.model_selection import train_test_split\n",
        "from sklearn.preprocessing import StandardScaler\n",
        "from sklearn.linear_model import Perceptron\n",
        "from sklearn.calibration import CalibratedClassifierCV\n",
        "from sklearn.ensemble import BaggingClassifier\n",
        "\n",
        "#importing DCS techniques from DESlib\n",
        "from deslib.dcs.ola import OLA\n",
        "from deslib.dcs.a_priori import APriori\n",
        "from deslib.dcs.mcb import MCB\n",
        "\n",
        "#import DES techniques from DESlib\n",
        "from deslib.des.des_p import DESP\n",
        "from deslib.des.knora_u import KNORAU\n",
        "from deslib.des.knora_e import KNORAE\n",
        "from deslib.des.meta_des import METADES"
      ],
      "execution_count": 0,
      "outputs": []
    },
    {
      "metadata": {
        "id": "rs7dapt3qqa0",
        "colab_type": "code",
        "colab": {}
      },
      "cell_type": "code",
      "source": [
        "data = load_breast_cancer()\n",
        "X = data.data\n",
        "y = data.target\n",
        "# 训练集:测试集=9:1\n",
        "X_train, X_test, y_train, y_test = train_test_split(X, y, test_size=0.1)\n",
        "\n",
        "# Scale the variables to have 0 mean and unit variance\n",
        "scalar = StandardScaler()\n",
        "X_train = scalar.fit_transform(X_train) \n",
        "X_test = scalar.transform(X_test)  # 用训练数据tranform测试数据\n",
        "\n",
        "# 将训练集等分为两部分，一部分用来训练第一层学习器，另一部分用来训练blender\n",
        "X_train, X_dsel, y_train, y_dsel = train_test_split(X_train, y_train, test_size=0.5)"
      ],
      "execution_count": 0,
      "outputs": []
    },
    {
      "metadata": {
        "id": "DEj9cBSVryw8",
        "colab_type": "code",
        "colab": {
          "base_uri": "https://localhost:8080/",
          "height": 35
        },
        "outputId": "8e397a2b-d2b4-4a30-b7d5-8fb10f480d09"
      },
      "cell_type": "code",
      "source": [
        "X_train.shape"
      ],
      "execution_count": 59,
      "outputs": [
        {
          "output_type": "execute_result",
          "data": {
            "text/plain": [
              "(256, 30)"
            ]
          },
          "metadata": {
            "tags": []
          },
          "execution_count": 59
        }
      ]
    },
    {
      "metadata": {
        "id": "3Nr9O0w5r6Q7",
        "colab_type": "code",
        "colab": {
          "base_uri": "https://localhost:8080/",
          "height": 87
        },
        "outputId": "af63f3cd-c986-4650-caff-d18291394ae9"
      },
      "cell_type": "code",
      "source": [
        "from sklearn import linear_model\n",
        "model1 = linear_model.LogisticRegression(C=1.0,\n",
        "                         multi_class='multinomial',\n",
        "                         penalty='l1', solver='saga', tol=0.1)\n",
        "model1.fit(X_train,y_train)"
      ],
      "execution_count": 60,
      "outputs": [
        {
          "output_type": "execute_result",
          "data": {
            "text/plain": [
              "LogisticRegression(C=1.0, class_weight=None, dual=False, fit_intercept=True,\n",
              "          intercept_scaling=1, max_iter=100, multi_class='multinomial',\n",
              "          n_jobs=1, penalty='l1', random_state=None, solver='saga',\n",
              "          tol=0.1, verbose=0, warm_start=False)"
            ]
          },
          "metadata": {
            "tags": []
          },
          "execution_count": 60
        }
      ]
    },
    {
      "metadata": {
        "id": "Xalhn5l1vb5v",
        "colab_type": "code",
        "colab": {
          "base_uri": "https://localhost:8080/",
          "height": 140
        },
        "outputId": "5324c225-9c00-4c07-b470-0cb7fd4ab03b"
      },
      "cell_type": "code",
      "source": [
        "from sklearn.ensemble import RandomForestClassifier\n",
        "model2 = RandomForestClassifier(n_estimators=10)\n",
        "model2.fit(X_train, y_train)\n"
      ],
      "execution_count": 61,
      "outputs": [
        {
          "output_type": "execute_result",
          "data": {
            "text/plain": [
              "RandomForestClassifier(bootstrap=True, class_weight=None, criterion='gini',\n",
              "            max_depth=None, max_features='auto', max_leaf_nodes=None,\n",
              "            min_impurity_decrease=0.0, min_impurity_split=None,\n",
              "            min_samples_leaf=1, min_samples_split=2,\n",
              "            min_weight_fraction_leaf=0.0, n_estimators=10, n_jobs=1,\n",
              "            oob_score=False, random_state=None, verbose=0,\n",
              "            warm_start=False)"
            ]
          },
          "metadata": {
            "tags": []
          },
          "execution_count": 61
        }
      ]
    },
    {
      "metadata": {
        "id": "-6ng7WRDxdhS",
        "colab_type": "code",
        "colab": {
          "base_uri": "https://localhost:8080/",
          "height": 123
        },
        "outputId": "9a158e4e-1267-473a-a66e-594194afdf14"
      },
      "cell_type": "code",
      "source": [
        "from sklearn.ensemble import ExtraTreesClassifier\n",
        "model3 = ExtraTreesClassifier(n_estimators=20)\n",
        "model3.fit(X_train,y_train)"
      ],
      "execution_count": 62,
      "outputs": [
        {
          "output_type": "execute_result",
          "data": {
            "text/plain": [
              "ExtraTreesClassifier(bootstrap=False, class_weight=None, criterion='gini',\n",
              "           max_depth=None, max_features='auto', max_leaf_nodes=None,\n",
              "           min_impurity_decrease=0.0, min_impurity_split=None,\n",
              "           min_samples_leaf=1, min_samples_split=2,\n",
              "           min_weight_fraction_leaf=0.0, n_estimators=20, n_jobs=1,\n",
              "           oob_score=False, random_state=None, verbose=0, warm_start=False)"
            ]
          },
          "metadata": {
            "tags": []
          },
          "execution_count": 62
        }
      ]
    },
    {
      "metadata": {
        "id": "O6NW5m3K0TV0",
        "colab_type": "code",
        "colab": {
          "base_uri": "https://localhost:8080/",
          "height": 35
        },
        "outputId": "c33c705d-8bac-4ae5-b4c1-02278b55c34e"
      },
      "cell_type": "code",
      "source": [
        "from sklearn.ensemble import GradientBoostingClassifier\n",
        "model4 = GradientBoostingClassifier(n_estimators=100, learning_rate=1.0,max_depth=1, random_state=0)\n",
        "model4.fit(X_train,y_train)\n",
        "model4.score(X_test,y_test)"
      ],
      "execution_count": 63,
      "outputs": [
        {
          "output_type": "execute_result",
          "data": {
            "text/plain": [
              "0.9649122807017544"
            ]
          },
          "metadata": {
            "tags": []
          },
          "execution_count": 63
        }
      ]
    },
    {
      "metadata": {
        "id": "D7kCRrExyA1G",
        "colab_type": "code",
        "colab": {
          "base_uri": "https://localhost:8080/",
          "height": 140
        },
        "outputId": "91b5fa1e-a49c-4f8c-e9c3-d4707e5c705d"
      },
      "cell_type": "code",
      "source": [
        "pool_classifiers = [model1,model2,model4]\n",
        "\n",
        "mcb = MCB(pool_classifiers)\n",
        "aposteriori = APriori(pool_classifiers)\n",
        "\n",
        "# Fitting the techniques\n",
        "mcb.fit(X_dsel, y_dsel)\n",
        "aposteriori.fit(X_dsel, y_dsel)\n",
        "\n",
        "print(\"base learners' score:\")\n",
        "print('LR :',model1.score(X_test,y_test))\n",
        "print('RF:',model2.score(X_test,y_test))\n",
        "# print('Extra tree:',model3.score(X_test,y_test))\n",
        "print('GB:',model4.score(X_test,y_test))\n",
        "\n",
        "# Calculate classification accuracy of each technique\n",
        "print('Evaluating DS techniques:')\n",
        "print('Classification accuracy MCB: ', mcb.score(X_test, y_test))\n",
        "print('Classification accuracy A posteriori: ', aposteriori.score(X_test, y_test))"
      ],
      "execution_count": 64,
      "outputs": [
        {
          "output_type": "stream",
          "text": [
            "base learners' score:\n",
            "LR : 0.9824561403508771\n",
            "RF: 0.9649122807017544\n",
            "GB: 0.9649122807017544\n",
            "Evaluating DS techniques:\n",
            "Classification accuracy MCB:  0.9473684210526315\n",
            "Classification accuracy A posteriori:  0.9649122807017544\n"
          ],
          "name": "stdout"
        }
      ]
    },
    {
      "metadata": {
        "id": "dEnh0afPzO41",
        "colab_type": "code",
        "colab": {
          "base_uri": "https://localhost:8080/",
          "height": 35
        },
        "outputId": "376e4daf-8611-433f-d2a7-03d1acceb366"
      },
      "cell_type": "code",
      "source": [
        "desp = DESP(pool_classifiers)\n",
        "desp.fit(X_dsel, y_dsel)\n",
        "print('Classification accuracy A DESP: ', desp.score(X_test, y_test))"
      ],
      "execution_count": 65,
      "outputs": [
        {
          "output_type": "stream",
          "text": [
            "Classification accuracy A DESP:  0.9649122807017544\n"
          ],
          "name": "stdout"
        }
      ]
    },
    {
      "metadata": {
        "id": "zU16FR9R1-2g",
        "colab_type": "code",
        "colab": {
          "base_uri": "https://localhost:8080/",
          "height": 70
        },
        "outputId": "c0383a36-3016-41a3-e3da-f7460dfc1cc8"
      },
      "cell_type": "code",
      "source": [
        "desp.predict(X_test)"
      ],
      "execution_count": 66,
      "outputs": [
        {
          "output_type": "execute_result",
          "data": {
            "text/plain": [
              "array([0, 0, 1, 1, 1, 1, 0, 1, 0, 1, 1, 1, 0, 0, 1, 1, 0, 0, 1, 0, 1, 0,\n",
              "       0, 1, 1, 0, 0, 1, 1, 0, 1, 0, 0, 0, 0, 1, 0, 0, 1, 1, 1, 1, 1, 1,\n",
              "       0, 1, 1, 0, 1, 0, 0, 1, 0, 1, 1, 0, 1])"
            ]
          },
          "metadata": {
            "tags": []
          },
          "execution_count": 66
        }
      ]
    },
    {
      "metadata": {
        "id": "PQhTjd1-31zE",
        "colab_type": "code",
        "colab": {}
      },
      "cell_type": "code",
      "source": [
        ""
      ],
      "execution_count": 0,
      "outputs": []
    }
  ]
}