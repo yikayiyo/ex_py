{
 "cells": [
  {
   "cell_type": "code",
   "execution_count": null,
   "metadata": {
    "scrolled": true
   },
   "outputs": [],
   "source": [
    "import csv\n",
    "from datetime import datetime\n",
    "\n",
    "from matplotlib import pyplot as plt\n",
    "\n",
    "# Get dates, high, and low temperatures from file.\n",
    "filename = 'death_valley_2014.csv'\n",
    "with open(filename) as f:\n",
    "    reader = csv.reader(f)\n",
    "    header_row = next(reader)\n",
    "#     print(header_row)\n",
    "    dates, highs, lows = [], [], []\n",
    "    for row in reader:\n",
    "        try:\n",
    "            current_date = datetime.strptime(row[0], \"%Y-%m-%d\")\n",
    "            high = int(row[1])\n",
    "            low = int(row[3])\n",
    "        except ValueError:\n",
    "            print(current_date, 'missing data')\n",
    "        else:\n",
    "            dates.append(current_date)\n",
    "            highs.append(high)\n",
    "            lows.append(low)\n",
    "\n",
    "# Plot data.\n",
    "fig = plt.figure(dpi=128, figsize=(10, 6))\n",
    "plt.plot(dates, highs, c='red', alpha=0.5)\n",
    "plt.plot(dates, lows, c='blue', alpha=0.5)\n",
    "plt.fill_between(dates, highs, lows, facecolor='blue', alpha=0.1)\n",
    "\n",
    "# Format plot.\n",
    "title = \"Daily high and low temperatures - 2014\\nDeath Valley, CA\"\n",
    "plt.title(title, fontsize=20)\n",
    "plt.xlabel('', fontsize=16)\n",
    "fig.autofmt_xdate()\n",
    "plt.ylabel(\"Temperature (F)\", fontsize=16)\n",
    "plt.tick_params(axis='both', which='major', labelsize=16)\n",
    "\n",
    "plt.show()"
   ]
  },
  {
   "cell_type": "code",
   "execution_count": 4,
   "metadata": {},
   "outputs": [
    {
     "name": "stdout",
     "output_type": "stream",
     "text": [
      "85 69 2\n"
     ]
    }
   ],
   "source": [
    "import json\n",
    "\n",
    "import pygal\n",
    "from pygal.style import LightColorizedStyle as LCS, RotateStyle as RS\n",
    "from pygal.maps.world import World\n",
    "from country_codes import get_country_code\n",
    "\n",
    "# Load the data into a list.\n",
    "filename = 'population_data.json'\n",
    "with open(filename) as f:\n",
    "    pop_data = json.load(f)\n",
    "\n",
    "# Build a dictionary of population data.\n",
    "cc_populations = {}\n",
    "for pop_dict in pop_data:\n",
    "    if pop_dict['Year'] == '2010':\n",
    "        country_name = pop_dict['Country Name']\n",
    "        population = int(float(pop_dict['Value']))\n",
    "#         print('{}:{}'.format(country_name,population))\n",
    "        code = get_country_code(country_name)\n",
    "        if code:\n",
    "            cc_populations[code] = population\n",
    "\n",
    "# Group the countries into 3 population levels.\n",
    "cc_pops_1, cc_pops_2, cc_pops_3 = {}, {}, {}\n",
    "for cc, pop in cc_populations.items():\n",
    "    if pop < 10000000:\n",
    "        cc_pops_1[cc] = pop\n",
    "    elif pop < 1000000000:\n",
    "        cc_pops_2[cc] = pop\n",
    "    else:\n",
    "        cc_pops_3[cc] = pop\n",
    "\n",
    "# See how many countries are in each level.        \n",
    "print(len(cc_pops_1), len(cc_pops_2), len(cc_pops_3))\n",
    "\n",
    "wm_style = RS('#336699')\n",
    "wm = World(style=wm_style)\n",
    "wm.title = 'World Population in 2010, by Country'\n",
    "wm.add('0-10m', cc_pops_1)\n",
    "wm.add('10m-1bn', cc_pops_2)\n",
    "wm.add('>1bn', cc_pops_3)\n",
    "    \n",
    "wm.render_to_file('world_population1.svg')"
   ]
  },
  {
   "cell_type": "code",
   "execution_count": null,
   "metadata": {
    "collapsed": true
   },
   "outputs": [],
   "source": [
    "import requests\n",
    "\n",
    "# Make an API call, and store the response.\n",
    "url = 'https://www.youtube.com'\n",
    "headers={'User-Agent':'Mozilla/5.0 (X11; Linux x86_64) AppleWebKit/537.36 (KHTML, like Gecko) Chrome/59.0.3071.115 Safari/537.36'}\n",
    "r = requests.get(url,headers=headers)\n",
    "print(\"Status code:\", r.status_code)"
   ]
  },
  {
   "cell_type": "code",
   "execution_count": null,
   "metadata": {
    "collapsed": true
   },
   "outputs": [],
   "source": []
  }
 ],
 "metadata": {
  "kernelspec": {
   "display_name": "Python 2",
   "language": "python",
   "name": "python2"
  }
 },
 "nbformat": 4,
 "nbformat_minor": 2
}
