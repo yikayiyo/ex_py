{
 "cells": [
  {
   "cell_type": "code",
   "execution_count": 9,
   "metadata": {
    "scrolled": true
   },
   "outputs": [
    {
     "name": "stdout",
     "output_type": "stream",
     "text": [
      "foo 1 2\n",
      "bar hello\n",
      "foo 3 4\n",
      "head: 1\n",
      "tails [23, 456, 789]\n"
     ]
    }
   ],
   "source": [
    "#解压可迭代对象赋值给多个变量\n",
    "records = [\n",
    "    ('foo', 1, 2),\n",
    "    ('bar', 'hello'),\n",
    "    ('foo', 3, 4),\n",
    "]\n",
    "def do_foo(x, y):\n",
    "    print('foo', x, y)\n",
    "def do_bar(s):\n",
    "    print('bar', s)\n",
    "for tag, *args in records:\n",
    "    if tag == 'foo':\n",
    "        do_foo(*args)\n",
    "    elif tag == 'bar':\n",
    "        do_bar(*args)\n",
    "items = [1,23,456,789]\n",
    "head, *tails = items\n",
    "print ('head: '+str(head))\n",
    "print ('tails '+str(tails))"
   ]
  },
  {
   "cell_type": "code",
   "execution_count": 2,
   "metadata": {},
   "outputs": [
    {
     "name": "stdout",
     "output_type": "stream",
     "text": [
      "deque([2, 3, 4], maxlen=3)\n"
     ]
    }
   ],
   "source": [
    "# 借助队列保留最后的N个元素\n",
    "from collections import deque\n",
    "#maxlen 指定了最多的元素个数\n",
    "# 最老的元素会被替代\n",
    "q = deque(maxlen=3)\n",
    "q.append(1)\n",
    "q.append(2)\n",
    "q.append(3)\n",
    "q.append(4)\n",
    "print(q)"
   ]
  },
  {
   "cell_type": "code",
   "execution_count": 14,
   "metadata": {},
   "outputs": [
    {
     "name": "stdout",
     "output_type": "stream",
     "text": [
      "[{'name': 'YHOO', 'shares': 45, 'price': 16.35}, {'name': 'FB', 'shares': 200, 'price': 21.09}, {'name': 'HPQ', 'shares': 35, 'price': 31.75}]\n",
      "[{'name': 'AAPL', 'shares': 50, 'price': 543.22}, {'name': 'ACME', 'shares': 75, 'price': 115.65}, {'name': 'IBM', 'shares': 100, 'price': 91.1}]\n"
     ]
    }
   ],
   "source": [
    "#利用堆查找最大或最小的N个元素\n",
    "'''当要查找的元素个数相对比较小的时候，函数 nlargest() 和 nsmallest() 是很\n",
    "合适的。如果你仅仅想查找唯一的最小或最大 (N=1) 的元素的话，那么使用 min() 和\n",
    "max() 函数会更快些。类似的，如果 N 的大小和集合大小接近的时候，通常先排序这\n",
    "个集合然后再使用切片操作会更快点 ( sorted(items)[:N] 或者是 sorted(items)[-\n",
    "N:] )。需要在正确场合使用函数 nlargest() 和 nsmallest() 才能发挥它们的优势'''\n",
    "import heapq\n",
    "portfolio = [\n",
    "    {'name': 'IBM', 'shares': 100, 'price': 91.1},\n",
    "    {'name': 'AAPL', 'shares': 50, 'price': 543.22},\n",
    "    {'name': 'FB', 'shares': 200, 'price': 21.09},\n",
    "    {'name': 'HPQ', 'shares': 35, 'price': 31.75},\n",
    "    {'name': 'YHOO', 'shares': 45, 'price': 16.35},\n",
    "    {'name': 'ACME', 'shares': 75, 'price': 115.65}\n",
    "]\n",
    "#根据价格返回目标\n",
    "cheap = heapq.nsmallest(3, portfolio, key=lambda s: s['price'])\n",
    "expensive = heapq.nlargest(3, portfolio, key=lambda s: s['price'])\n",
    "print (cheap)\n",
    "print (expensive)"
   ]
  },
  {
   "cell_type": "code",
   "execution_count": 17,
   "metadata": {},
   "outputs": [
    {
     "name": "stdout",
     "output_type": "stream",
     "text": [
      "Item('bar')\n",
      "Item('spam')\n",
      "Item('foo')\n",
      "Item('grok')\n"
     ]
    }
   ],
   "source": [
    "# 利用 heapq 实现一个优先级队列\n",
    "import heapq\n",
    "class PriorityQueue:\n",
    "    def __init__(self):\n",
    "        self._queue = []\n",
    "        self._index = 0\n",
    "    def push(self, item, priority):\n",
    "        # 优先级相同的按照index排序，而index一定不同\n",
    "        heapq.heappush(self._queue, (-priority, self._index, item))\n",
    "        self._index += 1\n",
    "    def pop(self):\n",
    "        return heapq.heappop(self._queue)[-1]\n",
    "\n",
    "class Item:\n",
    "    def __init__(self, name):\n",
    "        self.name = name\n",
    "    def __repr__(self):\n",
    "        return 'Item({!r})'.format(self.name)\n",
    "\n",
    "q = PriorityQueue()\n",
    "q.push(Item('foo'), 1)\n",
    "q.push(Item('bar'), 5)\n",
    "q.push(Item('spam'), 4)\n",
    "q.push(Item('grok'), 1)\n",
    "print(q.pop())\n",
    "print(q.pop())\n",
    "print(q.pop())\n",
    "print(q.pop())"
   ]
  },
  {
   "cell_type": "code",
   "execution_count": 7,
   "metadata": {},
   "outputs": [
    {
     "data": {
      "text/plain": [
       "{'a': [1, 2], 'b': [3]}"
      ]
     },
     "execution_count": 7,
     "metadata": {},
     "output_type": "execute_result"
    }
   ],
   "source": [
    "#字典中的键映射多个值\n",
    "pairs=[('a',1),('a',2),('b',3)]\n",
    "d={}\n",
    "for k,v in pairs:\n",
    "    if k not in d:\n",
    "        d[k]=[]\n",
    "    d[k].append(v)\n",
    "d"
   ]
  },
  {
   "cell_type": "code",
   "execution_count": 21,
   "metadata": {},
   "outputs": [
    {
     "data": {
      "text/plain": [
       "defaultdict(list, {'a': [1, 2], 'b': [3]})"
      ]
     },
     "execution_count": 21,
     "metadata": {},
     "output_type": "execute_result"
    }
   ],
   "source": [
    "# 借助multidict\n",
    "from collections import defaultdict\n",
    "pairs=[('a',1),('a',2),('b',3)]\n",
    "dd = defaultdict(list)\n",
    "for k,v in pairs:\n",
    "    dd[k].append(v)\n",
    "dd"
   ]
  },
  {
   "cell_type": "code",
   "execution_count": 14,
   "metadata": {},
   "outputs": [
    {
     "name": "stdout",
     "output_type": "stream",
     "text": [
      "528\n",
      "240\n"
     ]
    }
   ],
   "source": [
    "# 字典排序 OrderedDict\n",
    "# index 是有序的\n",
    "# 可以在构建json时使用\n",
    "# 不足： 因为内部维护着另外的链表，od的大小是普通字典的两倍\n",
    "from collections import OrderedDict\n",
    "import sys\n",
    "od = OrderedDict()\n",
    "d={}\n",
    "od['a']=1\n",
    "od['b']=0\n",
    "od['c']=0\n",
    "od['d']=8\n",
    "od['e']=6\n",
    "d['a']=1\n",
    "d['b']=0\n",
    "d['c']=0\n",
    "d['d']=8\n",
    "d['e']=6\n",
    "print(sys.getsizeof(od))\n",
    "print(sys.getsizeof(d))"
   ]
  },
  {
   "cell_type": "code",
   "execution_count": 16,
   "metadata": {},
   "outputs": [
    {
     "name": "stdout",
     "output_type": "stream",
     "text": [
      "min:(10.75, 'FB'),max:(612.78, 'AAPL')\n"
     ]
    }
   ],
   "source": [
    "#对字典上的值执行普通数学运算\n",
    "#可以用lambda指明key\n",
    "#也可以用zip()函数\n",
    "prices = {\n",
    "'ACME': 45.23,\n",
    "'AAPL': 612.78,\n",
    "'IBM': 205.55,\n",
    "'HPQ': 37.20,\n",
    "'FB': 10.75\n",
    "}\n",
    "#min_price = prices[min(prices, key=lambda k: prices[k])]\n",
    "min_price = min(zip(prices.values(),prices.keys()))\n",
    "max_price = max(zip(prices.values(),prices.keys()))\n",
    "print('min:{},max:{}'.format(min_price,max_price))"
   ]
  },
  {
   "cell_type": "code",
   "execution_count": null,
   "metadata": {
    "collapsed": true
   },
   "outputs": [],
   "source": [
    "# zip()返回一个迭代器，只能迭代一次\n",
    "prices_and_names = zip(prices.values(), prices.keys())\n",
    "print(min(prices_and_names)) # OK\n",
    "print(max(prices_and_names)) # ValueError: max() arg is an empty sequence"
   ]
  },
  {
   "cell_type": "code",
   "execution_count": 23,
   "metadata": {},
   "outputs": [
    {
     "data": {
      "text/plain": [
       "10.75"
      ]
     },
     "execution_count": 23,
     "metadata": {},
     "output_type": "execute_result"
    }
   ],
   "source": [
    "min(prices.values())"
   ]
  },
  {
   "cell_type": "code",
   "execution_count": 38,
   "metadata": {},
   "outputs": [
    {
     "data": {
      "text/plain": [
       "dict_keys"
      ]
     },
     "execution_count": 38,
     "metadata": {},
     "output_type": "execute_result"
    }
   ],
   "source": [
    "a = {\n",
    "'x' : 1,\n",
    "'y' : 2,\n",
    "'z' : 3\n",
    "}\n",
    "b = {\n",
    "'w' : 10,\n",
    "'x' : 11,\n",
    "'y' : 2\n",
    "}\n",
    "a.items() | b.items()\n",
    "# a.items() & b.items()\n",
    "a.keys() - b.keys()\n",
    "type(a.keys())"
   ]
  },
  {
   "cell_type": "code",
   "execution_count": 42,
   "metadata": {},
   "outputs": [
    {
     "data": {
      "text/plain": [
       "{1, 2, 5, 9, 10, 99}"
      ]
     },
     "execution_count": 42,
     "metadata": {},
     "output_type": "execute_result"
    }
   ],
   "source": [
    "#在一个序列上面保持元素顺序的同时消除重复的值\n",
    "li=[1,5,2,1,99,9,1,5,10]\n",
    "#set可以去重，但是里面的值变成升序的了\n",
    "set(li)\n",
    "#而且只适用于序列元素可哈希的情况"
   ]
  },
  {
   "cell_type": "code",
   "execution_count": 45,
   "metadata": {},
   "outputs": [
    {
     "data": {
      "text/plain": [
       "[1, 5, 2, 99, 9, 10]"
      ]
     },
     "execution_count": 45,
     "metadata": {},
     "output_type": "execute_result"
    }
   ],
   "source": [
    "def dedupe(items):\n",
    "    seen=[]\n",
    "    for item in items:\n",
    "        if item not in seen:\n",
    "            seen.append(item)\n",
    "    return seen\n",
    "list(dedupe(li))"
   ]
  },
  {
   "cell_type": "code",
   "execution_count": 53,
   "metadata": {},
   "outputs": [
    {
     "data": {
      "text/plain": [
       "[1, 5, 2, 99, 9, 10]"
      ]
     },
     "execution_count": 53,
     "metadata": {},
     "output_type": "execute_result"
    }
   ],
   "source": [
    "def dedupe2(items):\n",
    "    #seen=set()\n",
    "    seen=[]\n",
    "    for item in items:\n",
    "        if item not in seen:\n",
    "            yield item\n",
    "            #seen.add(item)\n",
    "            seen.append(item)\n",
    "list(dedupe2(li))"
   ]
  },
  {
   "cell_type": "code",
   "execution_count": 55,
   "metadata": {},
   "outputs": [
    {
     "data": {
      "text/plain": [
       "[{'x': 1, 'y': 2}, {'x': 1, 'y': 3}, {'x': 2, 'y': 4}]"
      ]
     },
     "execution_count": 55,
     "metadata": {},
     "output_type": "execute_result"
    }
   ],
   "source": [
    "#对于序列元素不可哈希的情况\n",
    "def dedupe3(items, key=None):\n",
    "    seen = set()\n",
    "    for item in items:\n",
    "        val = item if key is None else key(item)\n",
    "        if val not in seen:\n",
    "            yield item\n",
    "            seen.add(val)\n",
    "a3 = [ {'x':1, 'y':2}, {'x':1, 'y':3}, {'x':1, 'y':2}, {'x':2, 'y':4}]\n",
    "list(dedupe3(a3, key=lambda d: (d['x'],d['y'])))"
   ]
  },
  {
   "cell_type": "code",
   "execution_count": 58,
   "metadata": {},
   "outputs": [
    {
     "name": "stdout",
     "output_type": "stream",
     "text": [
      "[2, 3]\n",
      "[0, 1, 6, 5, 4, 5, 6]\n",
      "[0, 1, 4, 5, 6]\n"
     ]
    }
   ],
   "source": [
    "#命名切片 使代码更加易读\n",
    "items = [0, 1, 2, 3, 4, 5, 6]\n",
    "a = slice(2, 4)\n",
    "print(items[a])\n",
    "items[a] = [6,5]\n",
    "print(items)\n",
    "del items[a]\n",
    "print(items)"
   ]
  },
  {
   "cell_type": "code",
   "execution_count": 8,
   "metadata": {},
   "outputs": [
    {
     "name": "stdout",
     "output_type": "stream",
     "text": [
      "[('eyes', 8), ('the', 5), ('look', 4)]\n",
      "Counter({'eyes': 9, 'the': 5, 'look': 4, 'my': 4, 'into': 3, 'not': 2, 'around': 2, \"don't\": 1, \"you're\": 1, 'under': 1, 'why': 1, 'are': 1, 'you': 1, 'looking': 1, 'in': 1})\n"
     ]
    }
   ],
   "source": [
    "#序列中出现次数最多的元素\n",
    "#优先选择Counter,而不是手动的利用字典去实现\n",
    "#\n",
    "words = [\n",
    "'look', 'into', 'my', 'eyes', 'look', 'into', 'my', 'eyes',\n",
    "'the', 'eyes', 'the', 'eyes', 'the', 'eyes', 'not', 'around', 'the',\n",
    "'eyes', \"don't\", 'look', 'around', 'the', 'eyes', 'look', 'into',\n",
    "'my', 'eyes', \"you're\", 'under'\n",
    "]\n",
    "morewords = ['why','are','you','not','looking','in','my','eyes']\n",
    "from collections import Counter\n",
    "a = Counter(words)\n",
    "b = Counter(morewords)\n",
    "# 出现频率最高的 3 个单词\n",
    "top_three = a.most_common(3)\n",
    "print(top_three)\n",
    "# a\n",
    "# b\n",
    "# Counter可以和数学运算相结合\n",
    "print(a+b)"
   ]
  },
  {
   "cell_type": "code",
   "execution_count": 12,
   "metadata": {
    "scrolled": true
   },
   "outputs": [
    {
     "name": "stdout",
     "output_type": "stream",
     "text": [
      "[{'fname': 'Big', 'lname': 'Jones', 'uid': 1004}, {'fname': 'Brian', 'lname': 'Jones', 'uid': 1003}, {'fname': 'David', 'lname': 'Beazley', 'uid': 1002}, {'fname': 'John', 'lname': 'Cleese', 'uid': 1001}]\n",
      "---------\n",
      "[{'fname': 'John', 'lname': 'Cleese', 'uid': 1001}, {'fname': 'David', 'lname': 'Beazley', 'uid': 1002}, {'fname': 'Brian', 'lname': 'Jones', 'uid': 1003}, {'fname': 'Big', 'lname': 'Jones', 'uid': 1004}]\n"
     ]
    },
    {
     "data": {
      "text/plain": [
       "{'fname': 'John', 'lname': 'Cleese', 'uid': 1001}"
      ]
     },
     "execution_count": 12,
     "metadata": {},
     "output_type": "execute_result"
    }
   ],
   "source": [
    "#通过某个关键字排序一个字典列表\n",
    "#使用operator 模块的 itemgetter 函数\n",
    "rows = [\n",
    "    {'fname':'Brian', 'lname': 'Jones', 'uid': 1003},\n",
    "    {'fname':'David', 'lname': 'Beazley', 'uid': 1002},\n",
    "    {'fname':'John', 'lname': 'Cleese', 'uid': 1001},\n",
    "    {'fname':'Big', 'lname': 'Jones', 'uid': 1004},\n",
    "]\n",
    "from operator import itemgetter\n",
    "rows_by_fname = sorted(rows, key=itemgetter('fname'))\n",
    "#可以用lambda表达式替代，但是上面的方式运行更快\n",
    "rows_by_uid = sorted(rows, key=lambda s:s['uid'])\n",
    "print(rows_by_fname)\n",
    "print('---------')\n",
    "print(rows_by_uid)\n",
    "min(rows, key=itemgetter('uid'))"
   ]
  },
  {
   "cell_type": "code",
   "execution_count": 1,
   "metadata": {},
   "outputs": [
    {
     "data": {
      "text/plain": [
       "['jane', 'dave', 'john']"
      ]
     },
     "execution_count": 1,
     "metadata": {},
     "output_type": "execute_result"
    }
   ],
   "source": [
    "# 排序不支持原生比较的对象\n",
    "# https://docs.python.org/3.5/howto/sorting.html#sortinghowto\n",
    "# to specify a function to be called on each list element prior to making comparisons.\n",
    "# key指定了list中的每一个元素,在进行比较之前，都要调用的函数,该函数接收单个参数，返回用于比较的键值。\n",
    "# operator模块中定义了itemgetter(), attrgetter()和methodcaller()函数，比lambda函数跑得快\n",
    "# key函数可以访问外部资源，不一定和待排序的数组有关\n",
    "students = ['dave', 'john', 'jane']\n",
    "newgrades = {'john': 'F', 'jane':'A', 'dave': 'C'}\n",
    "sorted(students, key=newgrades.__getitem__)"
   ]
  },
  {
   "cell_type": "code",
   "execution_count": 10,
   "metadata": {},
   "outputs": [
    {
     "data": {
      "text/plain": [
       "defaultdict(list,\n",
       "            {'07/01/2012': [{'address': '5412 N CLARK', 'date': '07/01/2012'},\n",
       "              {'address': '5800 N CLARK', 'date': '07/01/2012'}],\n",
       "             '07/02/2012': [{'address': '5412 N CLARK', 'date': '07/02/2012'},\n",
       "              {'address': '4801 N CLARK', 'date': '07/02/2012'}],\n",
       "             '07/03/2012': [{'address': '1060 W CLARK', 'date': '07/03/2012'}],\n",
       "             '07/04/2012': [{'address': '5800 E CLARK', 'date': '07/04/2012'},\n",
       "              {'address': '5412 N CLARK', 'date': '07/04/2012'}]})"
      ]
     },
     "execution_count": 10,
     "metadata": {},
     "output_type": "execute_result"
    }
   ],
   "source": [
    "#通过某个字段将记录分组\n",
    "rows = [\n",
    "{'address':'5412 N CLARK','date':'07/01/2012'},\n",
    "{'address':'5800 N CLARK','date':'07/01/2012'},\n",
    "{'address':'5412 N CLARK','date':'07/02/2012'},\n",
    "{'address':'5800 E CLARK','date':'07/04/2012'},\n",
    "{'address':'5412 N CLARK','date':'07/04/2012'},\n",
    "{'address':'1060 W CLARK','date':'07/03/2012'},\n",
    "{'address':'4801 N CLARK','date':'07/02/2012'},\n",
    "]\n",
    "#按date分组\n",
    "from collections import defaultdict\n",
    "rows_by_date = defaultdict(list)\n",
    "for row in rows:\n",
    "    rows_by_date[row['date']].append(row)\n",
    "rows_by_date\n",
    "#好处是可以按照日期随机访问"
   ]
  },
  {
   "cell_type": "code",
   "execution_count": 12,
   "metadata": {
    "scrolled": true
   },
   "outputs": [
    {
     "name": "stdout",
     "output_type": "stream",
     "text": [
      "07/01/2012\n",
      "  {'address': '5412 N CLARK', 'date': '07/01/2012'}\n",
      "  {'address': '5800 N CLARK', 'date': '07/01/2012'}\n",
      "07/02/2012\n",
      "  {'address': '5412 N CLARK', 'date': '07/02/2012'}\n",
      "  {'address': '4801 N CLARK', 'date': '07/02/2012'}\n",
      "07/03/2012\n",
      "  {'address': '1060 W CLARK', 'date': '07/03/2012'}\n",
      "07/04/2012\n",
      "  {'address': '5800 E CLARK', 'date': '07/04/2012'}\n",
      "  {'address': '5412 N CLARK', 'date': '07/04/2012'}\n"
     ]
    }
   ],
   "source": [
    "#使用group(),但是需要先按指定字段排序\n",
    "from operator import itemgetter\n",
    "from itertools import groupby\n",
    "# Sort by the desired field first\n",
    "rows.sort(key=itemgetter('date'))\n",
    "# Iterate in groups\n",
    "for date, items in groupby(rows, key=itemgetter('date')):\n",
    "    print(date)\n",
    "    for i in items:\n",
    "        print(' ', i)"
   ]
  },
  {
   "cell_type": "code",
   "execution_count": 13,
   "metadata": {},
   "outputs": [
    {
     "name": "stdout",
     "output_type": "stream",
     "text": [
      "[False, False, True, False, False, True, True]\n"
     ]
    },
    {
     "data": {
      "text/plain": [
       "['5800', '1060', '4801']"
      ]
     },
     "execution_count": 13,
     "metadata": {},
     "output_type": "execute_result"
    }
   ],
   "source": [
    "#过滤序列元素\n",
    "#列表推导|生成器表达式|filter|compress\n",
    "#关键点在于先创建一个Boolean序列, 指示哪些元素复合条件。然后compress()函数根据这个序列去选择输出对应位置为True的元素\n",
    "addresses = [\n",
    "    '5412',\n",
    "    '5148',\n",
    "    '5800',\n",
    "    '2122',\n",
    "    '5645',\n",
    "    '1060',\n",
    "    '4801',\n",
    "]\n",
    "counts = [0, 3, 10, 4, 1, 7, 6]\n",
    "from itertools import compress\n",
    "more5 = [n > 5 for n in counts]\n",
    "print(more5)\n",
    "list(compress(addresses,more5))"
   ]
  },
  {
   "cell_type": "code",
   "execution_count": 35,
   "metadata": {},
   "outputs": [
    {
     "name": "stdout",
     "output_type": "stream",
     "text": [
      "1.0479616306954436\n"
     ]
    }
   ],
   "source": [
    "from time import time\n",
    "#从字典中提取子集\n",
    "prices = {\n",
    "'ACME': 45.23,\n",
    "'AAPL': 612.78,\n",
    "'IBM': 205.55,\n",
    "'HPQ': 37.20,\n",
    "'FB': 10.75\n",
    "}\n",
    "# Make a dictionary of all prices over 200\n",
    "# 借助元组实现，但是很慢\n",
    "# p1 = dict((key, value) for key, value in prices.items() if value > 200)\n",
    "p1 = {key: value for key, value in prices.items() if value > 200}\n",
    "# Make a dictionary of tech stocks\n",
    "tech_names = {'AAPL', 'IBM', 'HPQ', 'MSFT'}\n",
    "# 第一种实现比第二种慢，\n",
    "#\n",
    "t1 = time()\n",
    "p2 = { key:prices[key] for key in prices.keys() & tech_names }\n",
    "t2 = time()\n",
    "p2 = {key: value for key, value in prices.items() if key in tech_names}\n",
    "t3 = time()\n",
    "print((t2-t1)/(t3-t2))"
   ]
  },
  {
   "cell_type": "code",
   "execution_count": null,
   "metadata": {
    "collapsed": true
   },
   "outputs": [],
   "source": []
  }
 ],
 "metadata": {
  "kernelspec": {
   "display_name": "Python 3",
   "language": "python",
   "name": "python3"
  },
  "language_info": {
   "codemirror_mode": {
    "name": "ipython",
    "version": 3
   },
   "file_extension": ".py",
   "mimetype": "text/x-python",
   "name": "python",
   "nbconvert_exporter": "python",
   "pygments_lexer": "ipython3",
   "version": "3.6.1"
  }
 },
 "nbformat": 4,
 "nbformat_minor": 1
}
