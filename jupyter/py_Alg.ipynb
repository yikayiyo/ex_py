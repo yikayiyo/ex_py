{
 "cells": [
  {
   "cell_type": "code",
   "execution_count": 9,
   "metadata": {},
   "outputs": [
    {
     "name": "stdout",
     "output_type": "stream",
     "text": [
      "[2, 3, 5, 6, 9, 10]\n"
     ]
    }
   ],
   "source": [
    "def selection_sort(nums):\n",
    "    length = len(nums)\n",
    "    for i in range(length):\n",
    "        m = nums.index(min(nums[i:]))\n",
    "        if m!=i:\n",
    "            nums[i],nums[m]=nums[m],nums[i]\n",
    "    return nums\n",
    "array=[5,3,6,2,10,9]\n",
    "res=selection_sort(array)\n",
    "print(res)"
   ]
  },
  {
   "cell_type": "code",
   "execution_count": null,
   "metadata": {
    "collapsed": true
   },
   "outputs": [],
   "source": [
    ""
   ]
  }
 ],
 "metadata": {
  "kernelspec": {
   "display_name": "Python 3",
   "language": "python",
   "name": "python3"
  },
  "language_info": {
   "codemirror_mode": {
    "name": "ipython",
    "version": 3.0
   },
   "file_extension": ".py",
   "mimetype": "text/x-python",
   "name": "python",
   "nbconvert_exporter": "python",
   "pygments_lexer": "ipython3",
   "version": "3.6.1"
  }
 },
 "nbformat": 4,
 "nbformat_minor": 0
}