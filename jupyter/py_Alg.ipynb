{
 "cells": [
  {
   "cell_type": "markdown",
   "metadata": {},
   "source": [
    "### 选择排序\n",
    "找到数组中最小的元素，与第一个元素交换位置 \n",
    "在剩下的元素中找到最小的，将它与第二个元素交换位置 \n",
    "以此类推。"
   ]
  },
  {
   "cell_type": "code",
   "execution_count": 3,
   "metadata": {},
   "outputs": [
    {
     "name": "stdout",
     "output_type": "stream",
     "text": [
      "[348, 597, 671, 497, 754, 635, 954, 673, 465, 477, 709, 319, 429, 672, 704, 149, 603, 516, 190, 96, 143, 792, 208, 854, 679, 467, 307, 431, 397, 409, 275, 798, 273, 439, 970, 598, 536, 100, 998, 949, 295, 34, 362, 900, 616, 315, 113, 357, 181, 84, 378, 803, 126, 577, 666, 74, 120, 190, 704, 964, 422, 801, 502, 357, 358, 934, 106, 297, 999, 932, 377, 432, 323, 417, 603, 399, 486, 329, 132, 559, 482, 619, 323, 862, 274, 22, 768, 114, 7, 872, 642, 1000, 564, 313, 295, 495, 27, 964, 884, 78]\n",
      "--------------after selection_sort--------------\n",
      "[7, 22, 27, 34, 74, 78, 84, 96, 100, 106, 113, 114, 120, 126, 132, 143, 149, 181, 673, 603, 792, 208, 854, 679, 467, 307, 431, 397, 409, 275, 798, 273, 439, 970, 598, 536, 465, 998, 949, 964, 497, 362, 900, 616, 315, 709, 357, 516, 954, 378, 803, 672, 577, 666, 754, 429, 190, 190, 274, 422, 801, 502, 357, 358, 934, 477, 297, 999, 932, 377, 432, 323, 417, 603, 399, 486, 329, 704, 559, 482, 619, 323, 862, 704, 597, 768, 319, 348, 872, 642, 1000, 564, 313, 295, 295, 495, 635, 671, 884, 964]\n"
     ]
    }
   ],
   "source": [
    "import random\n",
    "def selection_sort(nums):\n",
    "    length = len(nums)\n",
    "    for i in range(length):\n",
    "        m = nums.index(min(nums[i:]))\n",
    "        #最小不是第i个再交换\n",
    "        if m!=i:\n",
    "            nums[i],nums[m]=nums[m],nums[i]\n",
    "    return nums\n",
    "# array = [5,3,6,2,10,9]\n",
    "array = [random.randint(1,1000) for x in range(100)]\n",
    "print (array)\n",
    "print('--------------after selection_sort--------------')\n",
    "res = selection_sort(array)\n",
    "print(res)"
   ]
  },
  {
   "cell_type": "markdown",
   "metadata": {},
   "source": [
    "### 插入排序\n",
    "数组的左半部分已经有序 \n",
    "对于新来的元素在左半部分找到其位置并插入 \n",
    "从后往前元素右移 \n",
    "寻找插入位置时使用二分搜索可以减少比较的次数"
   ]
  },
  {
   "cell_type": "code",
   "execution_count": 18,
   "metadata": {
    "scrolled": true
   },
   "outputs": [
    {
     "name": "stdout",
     "output_type": "stream",
     "text": [
      "[728, 219, 217, 876, 481, 576, 824, 611, 523, 965, 398, 648, 406, 697, 14, 909, 281, 548, 889, 335, 313, 764, 421, 436, 496, 268, 348, 785, 161, 828, 416, 449, 232, 286, 721, 701, 984, 528, 591, 845, 79, 145, 722, 964, 626, 248, 614, 236, 807, 299, 926, 424, 892, 999, 482, 790, 347, 636, 595, 198, 14, 587, 422, 823, 919, 909, 453, 942, 957, 211, 392, 43, 588, 712, 258, 45, 402, 530, 519, 535, 838, 449, 493, 931, 840, 236, 89, 239, 355, 191, 497, 111, 225, 691, 100, 878, 767, 117, 177, 273]\n",
      "--------------after insertion_sort--------------\n",
      "[14, 14, 43, 45, 79, 89, 100, 111, 117, 145, 161, 177, 191, 198, 211, 217, 219, 225, 232, 236, 236, 239, 248, 258, 268, 273, 281, 286, 299, 313, 335, 347, 348, 355, 392, 398, 402, 406, 416, 421, 422, 424, 436, 449, 449, 453, 481, 482, 493, 496, 497, 519, 523, 528, 530, 535, 548, 576, 587, 588, 591, 595, 611, 614, 626, 636, 648, 691, 697, 701, 712, 721, 722, 728, 764, 767, 785, 790, 807, 823, 824, 828, 838, 840, 845, 876, 878, 889, 892, 909, 909, 919, 926, 931, 942, 957, 964, 965, 984, 999]\n"
     ]
    }
   ],
   "source": [
    "def insertion_sort(nums):\n",
    "    length = len(nums)\n",
    "    for i in range(1,length):\n",
    "        key = nums[i]\n",
    "        while i-1 >= 0 and nums[i-1] > key:\n",
    "            nums[i] = nums[i-1]\n",
    "            i-=1\n",
    "        nums[i] = key\n",
    "    return nums\n",
    "# array = [5,3,6,2,10,9]\n",
    "array = [random.randint(1,1000) for x in range(100)]\n",
    "print(array)\n",
    "print('--------------after insertion_sort--------------')\n",
    "res = insertion_sort(array)\n",
    "print(res)"
   ]
  },
  {
   "cell_type": "markdown",
   "metadata": {},
   "source": [
    "### 希尔排序\n",
    "改进的插入排序 \n",
    "交换不相邻元素进行局部排序 \n",
    "最终是用插入排序将局部有序的数组排序 "
   ]
  },
  {
   "cell_type": "code",
   "execution_count": 16,
   "metadata": {},
   "outputs": [
    {
     "name": "stdout",
     "output_type": "stream",
     "text": [
      "[904, 160, 749, 203, 435, 374, 996, 755, 866, 453, 783, 793, 351, 542, 177, 380, 398, 731, 221, 401, 919, 231, 248, 548, 98, 498, 180, 921, 221, 606, 876, 305, 32, 908, 961, 713, 101, 613, 404, 271, 435, 319, 621, 273, 304, 572, 993, 399, 985, 976, 832, 301, 262, 976, 33, 83, 502, 403, 475, 439, 518, 906, 329, 388, 599, 378, 817, 100, 666, 219, 786, 774, 686, 408, 573, 82, 373, 292, 34, 902, 954, 741, 231, 855, 335, 546, 129, 259, 490, 524, 248, 204, 140, 149, 909, 57, 500, 658, 95, 123]\n",
      "--------------after shell_sort--------------\n",
      "[32, 33, 34, 57, 82, 83, 95, 98, 100, 101, 123, 129, 140, 149, 160, 177, 180, 203, 204, 219, 221, 221, 231, 231, 248, 248, 259, 262, 271, 273, 292, 301, 304, 305, 319, 329, 335, 351, 373, 374, 378, 380, 388, 398, 399, 401, 403, 404, 408, 435, 435, 439, 453, 475, 490, 498, 500, 502, 518, 524, 542, 546, 548, 572, 573, 599, 606, 613, 621, 658, 666, 686, 713, 731, 741, 749, 755, 774, 783, 786, 793, 817, 832, 855, 866, 876, 902, 904, 906, 908, 909, 919, 921, 954, 961, 976, 976, 985, 993, 996]\n"
     ]
    }
   ],
   "source": [
    "def shell_sort(nums):\n",
    "    length=len(nums)\n",
    "    sh = length//2\n",
    "    while sh >= 1:\n",
    "        for i in range(sh,length):\n",
    "            key = nums[i]\n",
    "            while i-sh >= 0 and nums[i-sh] > key:\n",
    "                nums[i] = nums[i-sh]\n",
    "                i-=sh\n",
    "            nums[i] = key\n",
    "        sh = sh//2    \n",
    "    return nums\n",
    "    \n",
    "array = [random.randint(1,1000) for x in range(100)]\n",
    "print(array)\n",
    "print('--------------after shell_sort--------------')\n",
    "res = shell_sort(array)\n",
    "print(res)"
   ]
  },
  {
   "cell_type": "markdown",
   "metadata": {},
   "source": [
    "### 归并排序\n",
    "将左半部分排序，将右半部分排序，将结果归并起来 \n",
    "任意长度为N的数组排序所需时间和NlogN成正比 \n",
    "所需额外空间和N成正比 "
   ]
  },
  {
   "cell_type": "code",
   "execution_count": 24,
   "metadata": {
    "scrolled": true
   },
   "outputs": [
    {
     "name": "stdout",
     "output_type": "stream",
     "text": [
      "merge_sort cost:13.96179699999999\n",
      "better_merge_sort cost:9.789404999999988\n"
     ]
    }
   ],
   "source": [
    "import time\n",
    "def merge_sort(nums):\n",
    "    if len(nums) < 2:\n",
    "        return nums\n",
    "    mid = int(len(nums) // 2)\n",
    "    L = merge_sort(nums[:mid])\n",
    "    R = merge_sort(nums[mid:])\n",
    "    return merge(L,R)\n",
    "\n",
    "def better_merge_sort(nums):\n",
    "    # 改进策略：到达一定长度时，不再使用递归算法；这里使用了内置的sorted()函数\n",
    "    # 结果表明，运算时间确实减少了\n",
    "    if len(nums) < 20:\n",
    "        return sorted(nums)\n",
    "    mid = int(len(nums) // 2)\n",
    "    L = better_merge_sort(nums[:mid])\n",
    "    R = better_merge_sort(nums[mid:])\n",
    "    return merge(L,R)\n",
    "\n",
    "def merge(L,R):\n",
    "    result=[]\n",
    "    i = 0\n",
    "    j = 0\n",
    "    while i < len(L) and j < len(R):\n",
    "        if L[i] > R[j]:\n",
    "            result.append(R[j])\n",
    "            j += 1\n",
    "        else:\n",
    "            result.append(L[i])\n",
    "            i += 1\n",
    "    result += L[i:]\n",
    "    result += R[j:]\n",
    "    return result\n",
    "array = [random.randint(1,100000) for x in range(1000000)]\n",
    "# print(array)\n",
    "start = time.clock()\n",
    "res = merge_sort(array)\n",
    "end = time.clock()\n",
    "print('merge_sort cost:'+str(end-start))\n",
    "start = time.clock()\n",
    "res2 = better_merge_sort(array)\n",
    "end = time.clock()\n",
    "print('better_merge_sort cost:'+str(end-start))\n",
    "\n",
    "# print(res)"
   ]
  },
  {
   "cell_type": "code",
   "execution_count": null,
   "metadata": {
    "collapsed": true
   },
   "outputs": [],
   "source": [
    ""
   ]
  }
 ],
 "metadata": {
  "kernelspec": {
   "display_name": "Python 3",
   "language": "python",
   "name": "python3"
  },
  "language_info": {
   "codemirror_mode": {
    "name": "ipython",
    "version": 3.0
   },
   "file_extension": ".py",
   "mimetype": "text/x-python",
   "name": "python",
   "nbconvert_exporter": "python",
   "pygments_lexer": "ipython3",
   "version": "3.6.1"
  }
 },
 "nbformat": 4,
 "nbformat_minor": 0
}