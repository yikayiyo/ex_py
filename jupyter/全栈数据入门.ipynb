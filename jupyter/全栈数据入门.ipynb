{
 "cells": [
  {
   "cell_type": "markdown",
   "metadata": {},
   "source": [
    "### 0x2 Python 部分"
   ]
  },
  {
   "cell_type": "code",
   "execution_count": 20,
   "metadata": {},
   "outputs": [
    {
     "data": {
      "text/plain": [
       "<filter at 0x7f63103797f0>"
      ]
     },
     "execution_count": 20,
     "metadata": {},
     "output_type": "execute_result"
    }
   ],
   "source": [
    "# python部分\n",
    "#函数式编程小例子\n",
    "nums = [1,2,5,0]\n",
    "f = filter(lambda x: x>2,nums)\n",
    "f"
   ]
  },
  {
   "cell_type": "code",
   "execution_count": 21,
   "metadata": {},
   "outputs": [
    {
     "data": {
      "text/plain": [
       "[5]"
      ]
     },
     "execution_count": 21,
     "metadata": {},
     "output_type": "execute_result"
    }
   ],
   "source": [
    "list(f)"
   ]
  },
  {
   "cell_type": "code",
   "execution_count": 9,
   "metadata": {},
   "outputs": [
    {
     "data": {
      "text/plain": [
       "[5]"
      ]
     },
     "execution_count": 9,
     "metadata": {},
     "output_type": "execute_result"
    }
   ],
   "source": [
    "#推荐列表解析\n",
    "[i for i in nums if i>2]"
   ]
  },
  {
   "cell_type": "code",
   "execution_count": 18,
   "metadata": {
    "scrolled": true
   },
   "outputs": [
    {
     "data": {
      "text/plain": [
       "[3, 5, 5, 8, 9, 11, 36, 42, 55, 56, 56, 62, 88, 95, 118, 123, 211, 386]"
      ]
     },
     "execution_count": 18,
     "metadata": {},
     "output_type": "execute_result"
    }
   ],
   "source": [
    "#合并两个有序列表\n",
    "def combine_sort(a,b):\n",
    "    if a is None :\n",
    "        return b\n",
    "    if b is None:\n",
    "        return a\n",
    "    res = a[:]\n",
    "    for ib in b:\n",
    "        #对于b中的item，找到其在a中的位置\n",
    "        for index,ia in enumerate(res[:]):\n",
    "            if ib <= ia:\n",
    "                res.insert(index,ib)\n",
    "                break\n",
    "            else:\n",
    "                if index == len(res)-1:\n",
    "                    res.append(ib)\n",
    "                else:\n",
    "                    continue\n",
    "    return res\n",
    "list1 = [42, 55, 56, 95, 123, 386]\n",
    "list2 = [3, 5, 5, 8, 9, 11, 36, 56, 62, 88, 118, 211]\n",
    "combine_sort(list1,list2)"
   ]
  },
  {
   "cell_type": "markdown",
   "metadata": {},
   "source": [
    "#### 实用库推荐\n",
    "网络requests\n",
    "\n",
    "时间日期处理arrow\n"
   ]
  },
  {
   "cell_type": "code",
   "execution_count": 22,
   "metadata": {},
   "outputs": [
    {
     "name": "stdout",
     "output_type": "stream",
     "text": [
      "arr type:<class 'numpy.ndarray'>\n",
      "mat type:<class 'numpy.matrixlib.defmatrix.matrix'>\n",
      "\n",
      "Type:<class 'numpy.matrixlib.defmatrix.matrix'>\n",
      "Value:\n",
      "[[  2.   6.  16.]\n",
      " [  4.   8.  14.]]\n"
     ]
    }
   ],
   "source": [
    "# numpy基础\n",
    "import numpy as np\n",
    "lst = [[1,3,8],[2,4,7]]\n",
    "arr = np.array(lst,dtype=float)\n",
    "mat = np.mat(lst,dtype=float)\n",
    "print('arr type:{}\\nmat type:{}'.format(type(arr),type(mat)))\n",
    "arr_add = arr + mat\n",
    "print('\\nType:{}\\nValue:\\n{}'.format(type(arr_add),arr_add))"
   ]
  },
  {
   "cell_type": "code",
   "execution_count": 23,
   "metadata": {},
   "outputs": [
    {
     "name": "stdout",
     "output_type": "stream",
     "text": [
      "ndim： 2\n",
      "shape： (2, 3)\n",
      "size： 6\n",
      "dtype： float64\n",
      "itemsize： 8\n"
     ]
    }
   ],
   "source": [
    "print ('ndim：',arr.ndim)\n",
    "print ('shape：',arr.shape)\n",
    "print ('size：',arr.size)\n",
    "print ('dtype：',arr.dtype)\n",
    "print ('itemsize：',arr.itemsize)\n"
   ]
  },
  {
   "cell_type": "code",
   "execution_count": 41,
   "metadata": {},
   "outputs": [
    {
     "data": {
      "text/plain": [
       "array([0, 1, 2, 3, 4, 5, 6, 7, 8, 9])"
      ]
     },
     "execution_count": 41,
     "metadata": {},
     "output_type": "execute_result"
    }
   ],
   "source": [
    "ten = np.arange(10)\n",
    "ten"
   ]
  },
  {
   "cell_type": "code",
   "execution_count": 43,
   "metadata": {},
   "outputs": [
    {
     "data": {
      "text/plain": [
       "array([2, 3, 4, 5])"
      ]
     },
     "execution_count": 43,
     "metadata": {},
     "output_type": "execute_result"
    }
   ],
   "source": [
    "# 切片\n",
    "ten[2:6]"
   ]
  },
  {
   "cell_type": "code",
   "execution_count": 45,
   "metadata": {},
   "outputs": [
    {
     "data": {
      "text/plain": [
       "array([2, 4])"
      ]
     },
     "execution_count": 45,
     "metadata": {},
     "output_type": "execute_result"
    }
   ],
   "source": [
    "#指定步长\n",
    "ten[2:6:2]"
   ]
  },
  {
   "cell_type": "code",
   "execution_count": 50,
   "metadata": {},
   "outputs": [
    {
     "data": {
      "text/plain": [
       "array([[0, 1, 2, 3, 4],\n",
       "       [5, 6, 7, 8, 9]])"
      ]
     },
     "execution_count": 50,
     "metadata": {},
     "output_type": "execute_result"
    }
   ],
   "source": [
    "ten.shape=(2,5)\n",
    "#ten.reshape(2,5)\n",
    "ten"
   ]
  },
  {
   "cell_type": "code",
   "execution_count": 55,
   "metadata": {},
   "outputs": [
    {
     "data": {
      "text/plain": [
       "array([0, 1, 2, 3, 4])"
      ]
     },
     "execution_count": 55,
     "metadata": {},
     "output_type": "execute_result"
    }
   ],
   "source": [
    "ten[0]\n",
    "ten[0,:]"
   ]
  },
  {
   "cell_type": "code",
   "execution_count": 57,
   "metadata": {},
   "outputs": [
    {
     "data": {
      "text/plain": [
       "array([2, 1])"
      ]
     },
     "execution_count": 57,
     "metadata": {},
     "output_type": "execute_result"
    }
   ],
   "source": [
    "# 参数1为行，参数2为列\n",
    "# 参数可以写成切片的形式，也可以写成数组形式\n",
    "# 下面表示 第一行的2，3列\n",
    "#ten[0,1:3]\n",
    "#array([1, 2])\n",
    "# 第一行的第三列和第二列\n",
    "ten[0,[2,1]]"
   ]
  },
  {
   "cell_type": "code",
   "execution_count": 67,
   "metadata": {},
   "outputs": [
    {
     "data": {
      "text/plain": [
       "array([[ 1.,  3.,  8.],\n",
       "       [ 2.,  4.,  7.]])"
      ]
     },
     "execution_count": 67,
     "metadata": {},
     "output_type": "execute_result"
    }
   ],
   "source": [
    "arr"
   ]
  },
  {
   "cell_type": "code",
   "execution_count": 68,
   "metadata": {},
   "outputs": [
    {
     "data": {
      "text/plain": [
       "array([[ 1.,  3.,  8.,  2.,  4.,  7.]])"
      ]
     },
     "execution_count": 68,
     "metadata": {},
     "output_type": "execute_result"
    }
   ],
   "source": [
    "#arr.reshape([1,6])\n",
    "a1 = arr.reshape(1,6)\n",
    "a1"
   ]
  },
  {
   "cell_type": "code",
   "execution_count": 76,
   "metadata": {},
   "outputs": [
    {
     "data": {
      "text/plain": [
       "array([[ 1.,  3.],\n",
       "       [ 8.,  2.],\n",
       "       [ 4.,  7.]])"
      ]
     },
     "execution_count": 76,
     "metadata": {},
     "output_type": "execute_result"
    }
   ],
   "source": [
    "a2 = arr.reshape(3,2)\n",
    "# 效果等于 a2 = arr.reshape(3,-1)  其中-1表示不确定\n",
    "a2"
   ]
  },
  {
   "cell_type": "code",
   "execution_count": 81,
   "metadata": {},
   "outputs": [
    {
     "data": {
      "text/plain": [
       "array([[ 1.],\n",
       "       [ 3.],\n",
       "       [ 8.],\n",
       "       [ 2.],\n",
       "       [ 4.],\n",
       "       [ 7.]])"
      ]
     },
     "execution_count": 81,
     "metadata": {},
     "output_type": "execute_result"
    }
   ],
   "source": [
    "a3 = arr.reshape(6,1)\n",
    "a3"
   ]
  },
  {
   "cell_type": "code",
   "execution_count": 84,
   "metadata": {},
   "outputs": [
    {
     "data": {
      "text/plain": [
       "array([ 1.,  3.,  7.])"
      ]
     },
     "execution_count": 84,
     "metadata": {},
     "output_type": "execute_result"
    }
   ],
   "source": [
    "# axis0轴从上到下\n",
    "# axis1轴从左到右\n",
    "\n",
    "#每一列的最小值\n",
    "arr.min(axis=0)"
   ]
  },
  {
   "cell_type": "code",
   "execution_count": 85,
   "metadata": {},
   "outputs": [
    {
     "data": {
      "text/plain": [
       "array([ 8.,  7.])"
      ]
     },
     "execution_count": 85,
     "metadata": {},
     "output_type": "execute_result"
    }
   ],
   "source": [
    "#每一行的最大值\n",
    "arr.max(axis=1)"
   ]
  },
  {
   "cell_type": "code",
   "execution_count": 89,
   "metadata": {},
   "outputs": [
    {
     "name": "stdout",
     "output_type": "stream",
     "text": [
      "add: [[  5.   8.  16.]\n",
      " [  5.  10.  17.]]\n"
     ]
    }
   ],
   "source": [
    "#矩阵运算\n",
    "new = np.mat([[4,5,8],[3,6,10]])\n",
    "print('add:',arr + new)"
   ]
  },
  {
   "cell_type": "code",
   "execution_count": 91,
   "metadata": {},
   "outputs": [
    {
     "name": "stdout",
     "output_type": "stream",
     "text": [
      "sub: [[-3. -2.  0.]\n",
      " [-1. -2. -3.]]\n"
     ]
    }
   ],
   "source": [
    "print('sub:',arr - new)"
   ]
  },
  {
   "cell_type": "code",
   "execution_count": 92,
   "metadata": {},
   "outputs": [
    {
     "name": "stdout",
     "output_type": "stream",
     "text": [
      "div: [[ 0.25        0.6         1.        ]\n",
      " [ 0.66666667  0.66666667  0.7       ]]\n"
     ]
    }
   ],
   "source": [
    "print('div:',arr / new)"
   ]
  },
  {
   "cell_type": "code",
   "execution_count": 94,
   "metadata": {},
   "outputs": [
    {
     "data": {
      "text/plain": [
       "array([[  2.,   6.,  16.],\n",
       "       [  4.,   8.,  14.]])"
      ]
     },
     "execution_count": 94,
     "metadata": {},
     "output_type": "execute_result"
    }
   ],
   "source": [
    "arr2 = 2 * arr\n",
    "arr2"
   ]
  },
  {
   "cell_type": "code",
   "execution_count": 96,
   "metadata": {},
   "outputs": [
    {
     "data": {
      "text/plain": [
       "array([[   2.,   18.,  128.],\n",
       "       [   8.,   32.,   98.]])"
      ]
     },
     "execution_count": 96,
     "metadata": {},
     "output_type": "execute_result"
    }
   ],
   "source": [
    "# arr * arr2 默认数乘\n",
    "np.multiply(arr,arr2)"
   ]
  },
  {
   "cell_type": "code",
   "execution_count": 97,
   "metadata": {},
   "outputs": [
    {
     "data": {
      "text/plain": [
       "array([[ 148.,  140.],\n",
       "       [ 140.,  138.]])"
      ]
     },
     "execution_count": 97,
     "metadata": {},
     "output_type": "execute_result"
    }
   ],
   "source": [
    "arr.dot(arr2.T)"
   ]
  },
  {
   "cell_type": "code",
   "execution_count": 1,
   "metadata": {},
   "outputs": [
    {
     "data": {
      "text/plain": [
       "array([[ 1,  2,  3],\n",
       "       [ 8, 10, 12],\n",
       "       [21, 24, 27]])"
      ]
     },
     "execution_count": 1,
     "metadata": {},
     "output_type": "execute_result"
    }
   ],
   "source": [
    "import numpy as np\n",
    "nine = np.array([[1,2,3],[4,5,6],[7,8,9]])\n",
    "three = np.array([[1],[2],[3]])\n",
    "nine*three \n",
    "#(3,3)*(3,1)===>(3,3)\n",
    "\n",
    "# 1 2 3     1        1  2  3\n",
    "# 4 5 6  *  2  ===>  8 10 12\n",
    "# 7 8 9     3       21 24 27"
   ]
  },
  {
   "cell_type": "code",
   "execution_count": 100,
   "metadata": {},
   "outputs": [
    {
     "data": {
      "text/plain": [
       "matrix([[  2.,   6.,  16.],\n",
       "        [  4.,   8.,  14.]])"
      ]
     },
     "execution_count": 100,
     "metadata": {},
     "output_type": "execute_result"
    }
   ],
   "source": [
    "mat2 = mat * 2\n",
    "mat2"
   ]
  },
  {
   "cell_type": "code",
   "execution_count": 101,
   "metadata": {},
   "outputs": [
    {
     "data": {
      "text/plain": [
       "matrix([[   2.,   18.,  128.],\n",
       "        [   8.,   32.,   98.]])"
      ]
     },
     "execution_count": 101,
     "metadata": {},
     "output_type": "execute_result"
    }
   ],
   "source": [
    "# 矩阵数乘\n",
    "np.multiply(mat,mat2)"
   ]
  },
  {
   "cell_type": "code",
   "execution_count": 104,
   "metadata": {},
   "outputs": [
    {
     "data": {
      "text/plain": [
       "matrix([[ 148.,  140.],\n",
       "        [ 140.,  138.]])"
      ]
     },
     "execution_count": 104,
     "metadata": {},
     "output_type": "execute_result"
    }
   ],
   "source": [
    "#矩阵点乘\n",
    "mat*mat2.transpose()\n",
    "# mat.dot(mat2.transpose())\n"
   ]
  },
  {
   "cell_type": "code",
   "execution_count": 109,
   "metadata": {},
   "outputs": [
    {
     "data": {
      "text/plain": [
       "array([[ 1.,  0.,  0.],\n",
       "       [ 0.,  1.,  0.],\n",
       "       [ 0.,  0.,  1.]])"
      ]
     },
     "execution_count": 109,
     "metadata": {},
     "output_type": "execute_result"
    }
   ],
   "source": [
    "np.eye(3)\n",
    "# 等价于 np.identity(3)"
   ]
  },
  {
   "cell_type": "code",
   "execution_count": 107,
   "metadata": {},
   "outputs": [
    {
     "data": {
      "text/plain": [
       "array([[ 1.,  0.],\n",
       "       [ 0.,  1.],\n",
       "       [ 0.,  0.]])"
      ]
     },
     "execution_count": 107,
     "metadata": {},
     "output_type": "execute_result"
    }
   ],
   "source": [
    "np.eye(3,2)"
   ]
  },
  {
   "cell_type": "code",
   "execution_count": 108,
   "metadata": {},
   "outputs": [
    {
     "data": {
      "text/plain": [
       "array([[ 1.,  0.,  0.],\n",
       "       [ 0.,  1.,  0.]])"
      ]
     },
     "execution_count": 108,
     "metadata": {},
     "output_type": "execute_result"
    }
   ],
   "source": [
    "np.eye(2,3)"
   ]
  },
  {
   "cell_type": "code",
   "execution_count": 113,
   "metadata": {},
   "outputs": [
    {
     "data": {
      "text/plain": [
       "array([[ 0.,  0.,  0.],\n",
       "       [ 0.,  0.,  0.]])"
      ]
     },
     "execution_count": 113,
     "metadata": {},
     "output_type": "execute_result"
    }
   ],
   "source": [
    "np.zeros((2,3))"
   ]
  },
  {
   "cell_type": "code",
   "execution_count": 114,
   "metadata": {},
   "outputs": [
    {
     "data": {
      "text/plain": [
       "array([[ 1.,  1.],\n",
       "       [ 1.,  1.],\n",
       "       [ 1.,  1.]])"
      ]
     },
     "execution_count": 114,
     "metadata": {},
     "output_type": "execute_result"
    }
   ],
   "source": [
    "np.ones((3,2))"
   ]
  },
  {
   "cell_type": "code",
   "execution_count": 115,
   "metadata": {},
   "outputs": [
    {
     "data": {
      "text/plain": [
       "array([  1. ,   5.5,  10. ])"
      ]
     },
     "execution_count": 115,
     "metadata": {},
     "output_type": "execute_result"
    }
   ],
   "source": [
    "np.linspace(1,10,3)"
   ]
  },
  {
   "cell_type": "code",
   "execution_count": 122,
   "metadata": {
    "collapsed": true
   },
   "outputs": [],
   "source": [
    "a = np.ones((2,2))\n",
    "b = np.eye(2)"
   ]
  },
  {
   "cell_type": "code",
   "execution_count": 123,
   "metadata": {},
   "outputs": [
    {
     "data": {
      "text/plain": [
       "array([[ 1.,  1.],\n",
       "       [ 1.,  1.],\n",
       "       [ 1.,  0.],\n",
       "       [ 0.,  1.]])"
      ]
     },
     "execution_count": 123,
     "metadata": {},
     "output_type": "execute_result"
    }
   ],
   "source": [
    "# 纵向合并\n",
    "np.vstack((a,b))"
   ]
  },
  {
   "cell_type": "code",
   "execution_count": 121,
   "metadata": {},
   "outputs": [
    {
     "data": {
      "text/plain": [
       "array([[ 1.,  1.,  1.,  0.],\n",
       "       [ 1.,  1.,  0.,  1.]])"
      ]
     },
     "execution_count": 121,
     "metadata": {},
     "output_type": "execute_result"
    }
   ],
   "source": [
    "# 横向合并\n",
    "np.hstack((a,b))"
   ]
  },
  {
   "cell_type": "code",
   "execution_count": 132,
   "metadata": {},
   "outputs": [
    {
     "data": {
      "text/plain": [
       "array([[-2.57823818, -1.4132194 , -0.0308894 ],\n",
       "       [ 0.55458669, -0.29997222,  1.44522577]])"
      ]
     },
     "execution_count": 132,
     "metadata": {},
     "output_type": "execute_result"
    }
   ],
   "source": [
    "# 随机数\n",
    "data = np.random.randn(2,3)\n",
    "data"
   ]
  },
  {
   "cell_type": "code",
   "execution_count": 133,
   "metadata": {},
   "outputs": [
    {
     "data": {
      "text/plain": [
       "array([1, 3, 2, 0])"
      ]
     },
     "execution_count": 133,
     "metadata": {},
     "output_type": "execute_result"
    }
   ],
   "source": [
    " # 统计 data 在[-5,-2.5,0,2.5,5.0]的分布\n",
    "hist,edges = np.histogram(data,[-5,-2.5,0,2.5,5.0])\n",
    "hist"
   ]
  },
  {
   "cell_type": "code",
   "execution_count": 137,
   "metadata": {},
   "outputs": [
    {
     "data": {
      "text/plain": [
       "[6, 18, 19, 38, 50, 54]"
      ]
     },
     "execution_count": 137,
     "metadata": {},
     "output_type": "execute_result"
    }
   ],
   "source": [
    "import random\n",
    "data2 = sorted(random.sample(range(100),6))\n",
    "data2"
   ]
  },
  {
   "cell_type": "code",
   "execution_count": 138,
   "metadata": {},
   "outputs": [
    {
     "data": {
      "text/plain": [
       "0"
      ]
     },
     "execution_count": 138,
     "metadata": {},
     "output_type": "execute_result"
    }
   ],
   "source": [
    "# 2在data2中的插入位置\n",
    "np.searchsorted(data2,2)"
   ]
  },
  {
   "cell_type": "markdown",
   "metadata": {
    "collapsed": true
   },
   "source": [
    "PCA降维的目的：\n",
    "- 减小维度可以减少计算量\n",
    "- 使得特征之间更加独立\n",
    "- 减少了噪声的影响\n",
    "- 方便可视化\n",
    "\n",
    "实现方法：\n",
    "- 特征值分解\n",
    "- 奇异值分解"
   ]
  },
  {
   "cell_type": "code",
   "execution_count": 61,
   "metadata": {},
   "outputs": [
    {
     "data": {
      "image/png": "[encoded data removed]",
      "text/plain": [
       "<matplotlib.figure.Figure at 0x7f561e55ab00>"
      ]
     },
     "metadata": {},
     "output_type": "display_data"
    }
   ],
   "source": [
    "# 原始数据集选取前两列做可视化\n",
    "import numpy as np\n",
    "from sklearn.datasets import load_iris\n",
    "#load data\n",
    "data = load_iris().data\n",
    "from matplotlib import pyplot as plt\n",
    "lt = data.tolist()\n",
    "da,db,dc,dd = zip(*lt)\n",
    "plt.scatter(da,db)\n",
    "plt.show()"
   ]
  },
  {
   "cell_type": "code",
   "execution_count": 29,
   "metadata": {},
   "outputs": [
    {
     "name": "stdout",
     "output_type": "stream",
     "text": [
      "特征均值:\n",
      " [ -1.12502600e-15  -6.75015599e-16  -3.23889064e-15  -6.06921920e-16]\n",
      "Shape: \n",
      " (4, 4)\n",
      "特征值：\n",
      " [ 4.22484077  0.24224357  0.07852391  0.02368303]\n",
      "特征向量：\n",
      " [[ 0.36158968 -0.65653988 -0.58099728  0.31725455]\n",
      " [-0.08226889 -0.72971237  0.59641809 -0.32409435]\n",
      " [ 0.85657211  0.1757674   0.07252408 -0.47971899]\n",
      " [ 0.35884393  0.07470647  0.54906091  0.75112056]]\n",
      "排序索引：\n",
      " [0 1 2 3]\n",
      "最大的2个特征索引：\n",
      " [0 1]\n",
      "对应的2个特征向量：\n",
      " [[ 0.36158968 -0.65653988]\n",
      " [-0.08226889 -0.72971237]\n",
      " [ 0.85657211  0.1757674 ]\n",
      " [ 0.35884393  0.07470647]]\n",
      "pca降维后的数据：\n",
      " [[-2.68420713 -0.32660731]\n",
      " [-2.71539062  0.16955685]\n",
      " [-2.88981954  0.13734561]\n",
      " [-2.7464372   0.31112432]\n",
      " [-2.72859298 -0.33392456]]\n"
     ]
    }
   ],
   "source": [
    "# 特征值分解实现pca\n",
    "import numpy as np\n",
    "from sklearn.datasets import load_iris\n",
    "#load data\n",
    "data = load_iris().data\n",
    "mean_val = np.mean(data,axis=0)\n",
    "meaned_data = data - mean_val\n",
    "# 特征均值都接近0了\n",
    "print('特征均值:\\n',np.mean(meaned_data,axis=0))\n",
    "meaned_data[:5,:]\n",
    "#求协方差,rowvar=False表示列为特征\n",
    "cov_mat = np.cov(meaned_data,rowvar=False)\n",
    "print('Shape: \\n',cov_mat.shape)\n",
    "#求特征值和特征向量\n",
    "eig_vals,eig_vects = np.linalg.eig(np.mat(cov_mat))\n",
    "print('特征值：\\n',eig_vals)\n",
    "print('特征向量：\\n',eig_vects)\n",
    "sorted_index = np.argsort(-eig_vals)\n",
    "print('排序索引：\\n',sorted_index)\n",
    "#取最大的两个特征值\n",
    "topn_index = sorted_index[:2]\n",
    "print('最大的2个特征索引：\\n',topn_index)\n",
    "topn_vects = eig_vects[:,:2]\n",
    "print('对应的2个特征向量：\\n',topn_vects)\n",
    "# pca_data = meaned_data * topn_vects\n",
    "pca_data = np.dot(meaned_data,topn_vects)\n",
    "print('pca降维后的数据：\\n',pca_data[:5,:])"
   ]
  },
  {
   "cell_type": "code",
   "execution_count": 38,
   "metadata": {},
   "outputs": [
    {
     "name": "stdout",
     "output_type": "stream",
     "text": [
      "模型\n",
      " PCA(copy=True, iterated_power='auto', n_components=2, random_state=None,\n",
      "  svd_solver='auto', tol=0.0, whiten=False)\n",
      "pca降维后的数据：\n",
      " [[-2.68420713  0.32660731]\n",
      " [-2.71539062 -0.16955685]\n",
      " [-2.88981954 -0.13734561]\n",
      " [-2.7464372  -0.31112432]\n",
      " [-2.72859298  0.33392456]]\n",
      "特征值的比例：\n",
      " [ 0.92461621  0.05301557]\n",
      "降维后的占比： 0.977631775025\n"
     ]
    }
   ],
   "source": [
    "#sk自带的pca是奇异值分解实现的\n",
    "from sklearn.decomposition import PCA\n",
    "pca = PCA(n_components=2)\n",
    "print ('模型\\n',pca)\n",
    "pca_data2 = pca.fit_transform(data)\n",
    "print('pca降维后的数据：\\n',pca_data2[:5,:])\n",
    "print('特征值的比例：\\n',pca.explained_variance_ratio_)\n",
    "print('降维后的占比：',sum(pca.explained_variance_ratio_))\n"
   ]
  },
  {
   "cell_type": "code",
   "execution_count": 60,
   "metadata": {},
   "outputs": [
    {
     "data": {
      "image/png": "[encoded data removed]",
      "text/plain": [
       "<matplotlib.figure.Figure at 0x7f561e4105f8>"
      ]
     },
     "metadata": {},
     "output_type": "display_data"
    }
   ],
   "source": [
    "#降维后的可视化说明降维对数据起到了作用\n",
    "from matplotlib import pyplot as plt\n",
    "# plt.scatter(pca_data[:5,0],pca_data[:5,1])\n",
    "lt = pca_data2.tolist()\n",
    "da,db = zip(*lt)\n",
    "plt.scatter(da,db)\n",
    "plt.show()"
   ]
  },
  {
   "cell_type": "markdown",
   "metadata": {},
   "source": [
    "### 0x5 机器学习部分"
   ]
  },
  {
   "cell_type": "markdown",
   "metadata": {},
   "source": [
    "具体的机器学习问题通常分为三个部分：\n",
    "- 数据准备和预处理\n",
    "- 模型选择和训练\n",
    "- 模型验证和参数调优"
   ]
  },
  {
   "cell_type": "code",
   "execution_count": 93,
   "metadata": {},
   "outputs": [
    {
     "name": "stdout",
     "output_type": "stream",
     "text": [
      "特征：\n",
      " [[ 5.1  3.5  1.4  0.2]\n",
      " [ 4.9  3.   1.4  0.2]\n",
      " [ 4.7  3.2  1.3  0.2]]\n",
      "目标值：\n",
      " [0 0 0]\n",
      "训练集：\n",
      " (120, 4) (120,)\n",
      "测试集：\n",
      " (30, 4) (30,)\n",
      "first 3 res [1 2 1]\n",
      "model:\n",
      " KNeighborsClassifier(algorithm='auto', leaf_size=30, metric='minkowski',\n",
      "           metric_params=None, n_jobs=-1, n_neighbors=3, p=2,\n",
      "           weights='uniform')\n",
      "first 3 preds:\n",
      " [1 2 2]\n",
      "0.966666666667\n",
      "(array([ 1.   ,  1.   ,  0.875]),\n",
      " array([ 1.        ,  0.90909091,  1.        ]),\n",
      " array([ 1.        ,  0.95238095,  0.93333333]),\n",
      " array([12, 11,  7]))\n"
     ]
    },
    {
     "data": {
      "text/plain": [
       "['model.pkl']"
      ]
     },
     "execution_count": 93,
     "metadata": {},
     "output_type": "execute_result"
    }
   ],
   "source": [
    "from sklearn.datasets import load_iris\n",
    "from sklearn.cross_validation import train_test_split\n",
    "\n",
    "iris = load_iris()\n",
    "data_X = iris.data\n",
    "data_y = iris.target\n",
    "\n",
    "# print(iris.DESCR)\n",
    "#数据维度、特征、目标值的前三项\n",
    "print('特征：\\n',data_X[:3,:])\n",
    "print('目标值：\\n',data_Y[:3])\n",
    "#数据切分\n",
    "train_X,test_X,train_y,test_y = train_test_split(data_X,data_y,test_size=0.2)\n",
    "print('训练集：\\n',train_X.shape,train_y.shape)\n",
    "print('测试集：\\n',test_X.shape,test_y.shape)\n",
    "print('first 3 res',test_y[:3])\n",
    "from sklearn.neighbors import KNeighborsClassifier\n",
    "#构建模型\n",
    "knn = KNeighborsClassifier(n_neighbors=3,n_jobs=-1)\n",
    "#拟合数据\n",
    "knn.fit(train_X,train_y)\n",
    "preds = knn.predict(test_X)\n",
    "print('model:\\n',knn)\n",
    "print('first 3 preds:\\n',preds[:3])\n",
    "#模型评估\n",
    "from pprint import pprint\n",
    "#knn自带的score，使用的指标为F1值\n",
    "print(knn.score(test_X,test_y))\n",
    "from sklearn.metrics import precision_recall_fscore_support\n",
    "#打印每个类别的精确率、召回率、F值、support（指各个类别的出现次数）\n",
    "#本例中共有三类：class0,class1，class2\n",
    "scores = precision_recall_fscore_support(test_y,preds)\n",
    "pprint(scores)\n",
    "#保存模型\n",
    "from sklearn.externals import joblib\n",
    "joblib.dump(knn,'model.pkl')"
   ]
  },
  {
   "cell_type": "code",
   "execution_count": 95,
   "metadata": {},
   "outputs": [
    {
     "data": {
      "text/plain": [
       "KNeighborsClassifier(algorithm='auto', leaf_size=30, metric='minkowski',\n",
       "           metric_params=None, n_jobs=-1, n_neighbors=3, p=2,\n",
       "           weights='uniform')"
      ]
     },
     "execution_count": 95,
     "metadata": {},
     "output_type": "execute_result"
    }
   ],
   "source": [
    "# 加载模型\n",
    "knn = joblib.load('model.pkl')\n",
    "knn"
   ]
  },
  {
   "cell_type": "code",
   "execution_count": 40,
   "metadata": {},
   "outputs": [
    {
     "data": {
      "text/html": [
       "<div>\n",
       "<style>\n",
       "    .dataframe thead tr:only-child th {\n",
       "        text-align: right;\n",
       "    }\n",
       "\n",
       "    .dataframe thead th {\n",
       "        text-align: left;\n",
       "    }\n",
       "\n",
       "    .dataframe tbody tr th {\n",
       "        vertical-align: top;\n",
       "    }\n",
       "</style>\n",
       "<table border=\"1\" class=\"dataframe\">\n",
       "  <thead>\n",
       "    <tr style=\"text-align: right;\">\n",
       "      <th></th>\n",
       "      <th>condit=bad</th>\n",
       "      <th>condit=best</th>\n",
       "      <th>condit=good</th>\n",
       "      <th>fruit=apple</th>\n",
       "      <th>fruit=banana</th>\n",
       "      <th>fruit=orange</th>\n",
       "      <th>price</th>\n",
       "      <th>sale</th>\n",
       "    </tr>\n",
       "    <tr>\n",
       "      <th>id</th>\n",
       "      <th></th>\n",
       "      <th></th>\n",
       "      <th></th>\n",
       "      <th></th>\n",
       "      <th></th>\n",
       "      <th></th>\n",
       "      <th></th>\n",
       "      <th></th>\n",
       "    </tr>\n",
       "  </thead>\n",
       "  <tbody>\n",
       "    <tr>\n",
       "      <th>1</th>\n",
       "      <td>0.0</td>\n",
       "      <td>0.0</td>\n",
       "      <td>1.0</td>\n",
       "      <td>1.0</td>\n",
       "      <td>0.0</td>\n",
       "      <td>0.0</td>\n",
       "      <td>1.5</td>\n",
       "      <td>1.3</td>\n",
       "    </tr>\n",
       "    <tr>\n",
       "      <th>2</th>\n",
       "      <td>1.0</td>\n",
       "      <td>0.0</td>\n",
       "      <td>0.0</td>\n",
       "      <td>1.0</td>\n",
       "      <td>0.0</td>\n",
       "      <td>0.0</td>\n",
       "      <td>0.8</td>\n",
       "      <td>0.7</td>\n",
       "    </tr>\n",
       "    <tr>\n",
       "      <th>3</th>\n",
       "      <td>0.0</td>\n",
       "      <td>0.0</td>\n",
       "      <td>1.0</td>\n",
       "      <td>0.0</td>\n",
       "      <td>1.0</td>\n",
       "      <td>0.0</td>\n",
       "      <td>2.5</td>\n",
       "      <td>2.1</td>\n",
       "    </tr>\n",
       "    <tr>\n",
       "      <th>4</th>\n",
       "      <td>0.0</td>\n",
       "      <td>1.0</td>\n",
       "      <td>0.0</td>\n",
       "      <td>0.0</td>\n",
       "      <td>1.0</td>\n",
       "      <td>0.0</td>\n",
       "      <td>3.5</td>\n",
       "      <td>2.5</td>\n",
       "    </tr>\n",
       "    <tr>\n",
       "      <th>5</th>\n",
       "      <td>0.0</td>\n",
       "      <td>0.0</td>\n",
       "      <td>1.0</td>\n",
       "      <td>0.0</td>\n",
       "      <td>0.0</td>\n",
       "      <td>1.0</td>\n",
       "      <td>1.8</td>\n",
       "      <td>1.5</td>\n",
       "    </tr>\n",
       "    <tr>\n",
       "      <th>6</th>\n",
       "      <td>1.0</td>\n",
       "      <td>0.0</td>\n",
       "      <td>0.0</td>\n",
       "      <td>0.0</td>\n",
       "      <td>0.0</td>\n",
       "      <td>1.0</td>\n",
       "      <td>1.5</td>\n",
       "      <td>1.0</td>\n",
       "    </tr>\n",
       "  </tbody>\n",
       "</table>\n",
       "</div>"
      ],
      "text/plain": [
       "    condit=bad  condit=best  condit=good  fruit=apple  fruit=banana  \\\n",
       "id                                                                    \n",
       "1          0.0          0.0          1.0          1.0           0.0   \n",
       "2          1.0          0.0          0.0          1.0           0.0   \n",
       "3          0.0          0.0          1.0          0.0           1.0   \n",
       "4          0.0          1.0          0.0          0.0           1.0   \n",
       "5          0.0          0.0          1.0          0.0           0.0   \n",
       "6          1.0          0.0          0.0          0.0           0.0   \n",
       "\n",
       "    fruit=orange  price  sale  \n",
       "id                             \n",
       "1            0.0    1.5   1.3  \n",
       "2            0.0    0.8   0.7  \n",
       "3            0.0    2.5   2.1  \n",
       "4            0.0    3.5   2.5  \n",
       "5            1.0    1.8   1.5  \n",
       "6            1.0    1.5   1.0  "
      ]
     },
     "execution_count": 40,
     "metadata": {},
     "output_type": "execute_result"
    }
   ],
   "source": [
    "# 特征工程\n",
    "# 特征提取E、特征转换T、特征选择S\n",
    "# one-hot 编码：离散型的类别变量变成多维的0和1(解决了距离问题)\n",
    "import pandas as pd\n",
    "df = pd.read_csv('fruit.csv',index_col='id')\n",
    "df['fruit'] = df['fruit'].map({'apple':'0','banana':'1','orange':'2'})\n",
    "df['condit'] = df['condit'].map({'good':'0','bad':'1','best':'2'})\n",
    "from sklearn.preprocessing import OneHotEncoder\n",
    "onehot = OneHotEncoder(categorical_features=[0,1],sparse=False)#False 表示返回稠密数组;categorical_features指定前两个维度为类别变量\n",
    "# model = onehot.fit(df.values)\n",
    "# cont_df = model.transform(df.values)\n",
    "con_df = onehot.fit_transform(df.values)\n",
    "cont_df"
   ]
  },
  {
   "cell_type": "code",
   "execution_count": 36,
   "metadata": {},
   "outputs": [
    {
     "data": {
      "text/html": [
       "<div>\n",
       "<style>\n",
       "    .dataframe thead tr:only-child th {\n",
       "        text-align: right;\n",
       "    }\n",
       "\n",
       "    .dataframe thead th {\n",
       "        text-align: left;\n",
       "    }\n",
       "\n",
       "    .dataframe tbody tr th {\n",
       "        vertical-align: top;\n",
       "    }\n",
       "</style>\n",
       "<table border=\"1\" class=\"dataframe\">\n",
       "  <thead>\n",
       "    <tr style=\"text-align: right;\">\n",
       "      <th></th>\n",
       "      <th>condit=bad</th>\n",
       "      <th>condit=best</th>\n",
       "      <th>condit=good</th>\n",
       "      <th>fruit=apple</th>\n",
       "      <th>fruit=banana</th>\n",
       "      <th>fruit=orange</th>\n",
       "      <th>price</th>\n",
       "      <th>sale</th>\n",
       "    </tr>\n",
       "    <tr>\n",
       "      <th>id</th>\n",
       "      <th></th>\n",
       "      <th></th>\n",
       "      <th></th>\n",
       "      <th></th>\n",
       "      <th></th>\n",
       "      <th></th>\n",
       "      <th></th>\n",
       "      <th></th>\n",
       "    </tr>\n",
       "  </thead>\n",
       "  <tbody>\n",
       "    <tr>\n",
       "      <th>1</th>\n",
       "      <td>0.0</td>\n",
       "      <td>0.0</td>\n",
       "      <td>1.0</td>\n",
       "      <td>1.0</td>\n",
       "      <td>0.0</td>\n",
       "      <td>0.0</td>\n",
       "      <td>1.5</td>\n",
       "      <td>1.3</td>\n",
       "    </tr>\n",
       "    <tr>\n",
       "      <th>2</th>\n",
       "      <td>1.0</td>\n",
       "      <td>0.0</td>\n",
       "      <td>0.0</td>\n",
       "      <td>1.0</td>\n",
       "      <td>0.0</td>\n",
       "      <td>0.0</td>\n",
       "      <td>0.8</td>\n",
       "      <td>0.7</td>\n",
       "    </tr>\n",
       "    <tr>\n",
       "      <th>3</th>\n",
       "      <td>0.0</td>\n",
       "      <td>0.0</td>\n",
       "      <td>1.0</td>\n",
       "      <td>0.0</td>\n",
       "      <td>1.0</td>\n",
       "      <td>0.0</td>\n",
       "      <td>2.5</td>\n",
       "      <td>2.1</td>\n",
       "    </tr>\n",
       "    <tr>\n",
       "      <th>4</th>\n",
       "      <td>0.0</td>\n",
       "      <td>1.0</td>\n",
       "      <td>0.0</td>\n",
       "      <td>0.0</td>\n",
       "      <td>1.0</td>\n",
       "      <td>0.0</td>\n",
       "      <td>3.5</td>\n",
       "      <td>2.5</td>\n",
       "    </tr>\n",
       "    <tr>\n",
       "      <th>5</th>\n",
       "      <td>0.0</td>\n",
       "      <td>0.0</td>\n",
       "      <td>1.0</td>\n",
       "      <td>0.0</td>\n",
       "      <td>0.0</td>\n",
       "      <td>1.0</td>\n",
       "      <td>1.8</td>\n",
       "      <td>1.5</td>\n",
       "    </tr>\n",
       "    <tr>\n",
       "      <th>6</th>\n",
       "      <td>1.0</td>\n",
       "      <td>0.0</td>\n",
       "      <td>0.0</td>\n",
       "      <td>0.0</td>\n",
       "      <td>0.0</td>\n",
       "      <td>1.0</td>\n",
       "      <td>1.5</td>\n",
       "      <td>1.0</td>\n",
       "    </tr>\n",
       "  </tbody>\n",
       "</table>\n",
       "</div>"
      ],
      "text/plain": [
       "    condit=bad  condit=best  condit=good  fruit=apple  fruit=banana  \\\n",
       "id                                                                    \n",
       "1          0.0          0.0          1.0          1.0           0.0   \n",
       "2          1.0          0.0          0.0          1.0           0.0   \n",
       "3          0.0          0.0          1.0          0.0           1.0   \n",
       "4          0.0          1.0          0.0          0.0           1.0   \n",
       "5          0.0          0.0          1.0          0.0           0.0   \n",
       "6          1.0          0.0          0.0          0.0           0.0   \n",
       "\n",
       "    fruit=orange  price  sale  \n",
       "id                             \n",
       "1            0.0    1.5   1.3  \n",
       "2            0.0    0.8   0.7  \n",
       "3            0.0    2.5   2.1  \n",
       "4            0.0    3.5   2.5  \n",
       "5            1.0    1.8   1.5  \n",
       "6            1.0    1.5   1.0  "
      ]
     },
     "execution_count": 36,
     "metadata": {},
     "output_type": "execute_result"
    }
   ],
   "source": [
    "#利用 DictVectorizer 进行onehot编码\n",
    "from sklearn.feature_extraction import DictVectorizer\n",
    "df2 = pd.read_csv('fruit.csv',index_col='id')\n",
    "dic = df2.to_dict('record')\n",
    "vec = DictVectorizer(sparse=False)\n",
    "vdata = vec.fit_transform(dic)\n",
    "# vdata = vec.transform(dic)\n",
    "# print(vec.get_feature_names())\n",
    "cont_df = pd.DataFrame(vdata,index=df2.index,columns=vec.get_feature_names())\n",
    "cont_df"
   ]
  },
  {
   "cell_type": "code",
   "execution_count": 48,
   "metadata": {},
   "outputs": [
    {
     "name": "stdout",
     "output_type": "stream",
     "text": [
      "mean:\n",
      " [ -3.14563190e-16   7.40148683e-17]\n",
      "std:\n",
      " [ 1.  1.]\n",
      "scaled data:\n",
      " [[-0.5029851  -0.35083918]\n",
      " [-1.3154995  -1.32239382]\n",
      " [ 0.65774975  0.94456702]\n",
      " [ 1.8184846   1.59227011]\n",
      " [-0.15476465 -0.02698763]\n",
      " [-0.5029851  -0.8366165 ]]\n"
     ]
    }
   ],
   "source": [
    "# 标准化\n",
    "from sklearn.preprocessing import StandardScaler,MinMaxScaler\n",
    "scale = StandardScaler()\n",
    "scaled_data = scale.fit_transform(df[['price','sale']])\n",
    "print('mean:\\n',scaled_data.mean(axis=0))\n",
    "print('std:\\n',scaled_data.std(axis=0))\n",
    "print('scaled data:\\n',scaled_data)"
   ]
  },
  {
   "cell_type": "code",
   "execution_count": 51,
   "metadata": {},
   "outputs": [
    {
     "name": "stdout",
     "output_type": "stream",
     "text": [
      "min:\n",
      " [ 0.  0.]\n",
      "max:\n",
      " [ 1.  1.]\n"
     ]
    },
    {
     "data": {
      "text/plain": [
       "array([[ 0.25925926,  0.33333333],\n",
       "       [ 0.        ,  0.        ],\n",
       "       [ 0.62962963,  0.77777778],\n",
       "       [ 1.        ,  1.        ],\n",
       "       [ 0.37037037,  0.44444444],\n",
       "       [ 0.25925926,  0.16666667]])"
      ]
     },
     "execution_count": 51,
     "metadata": {},
     "output_type": "execute_result"
    }
   ],
   "source": [
    "# 归一化\n",
    "minmax = MinMaxScaler()\n",
    "minmax_data = minmax.fit_transform(df[['price','sale']])\n",
    "print('min:\\n',minmax_data.min(axis=0))\n",
    "print('max:\\n',minmax_data.max(axis=0))\n",
    "minmax_data"
   ]
  },
  {
   "cell_type": "markdown",
   "metadata": {},
   "source": [
    "**思考：热编码统一应用于测试集和训练集;而归一和标准化一般是在训练集上得到一个模型，再将其应用到测试集**"
   ]
  },
  {
   "cell_type": "markdown",
   "metadata": {},
   "source": [
    "#### 统计指标\n",
    "- 变量：连续变量、离散变量\n",
    "- 对于离散变量，一般要做的是统计类别数，各个类别的分布\n",
    "- 对于连续变量，有用的统计量有均值、中位数、最值、求和等等\n"
   ]
  },
  {
   "cell_type": "code",
   "execution_count": 65,
   "metadata": {},
   "outputs": [
    {
     "name": "stdout",
     "output_type": "stream",
     "text": [
      "data:\n",
      "      fruit condit  price  sale\n",
      "id                            \n",
      "1    apple   good    1.5   1.3\n",
      "2    apple    bad    0.8   0.7\n",
      "3   banana   good    2.5   2.1\n",
      "4   banana   best    3.5   2.5\n",
      "5   orange   good    1.8   1.5\n",
      "6   orange    bad    1.5   1.0\n",
      "***************************\n",
      "          price      sale\n",
      "count  6.000000  6.000000\n",
      "mean   1.933333  1.516667\n",
      "std    0.943751  0.676511\n",
      "min    0.800000  0.700000\n",
      "25%    1.500000  1.075000\n",
      "50%    1.650000  1.400000\n",
      "75%    2.325000  1.950000\n",
      "max    3.500000  2.500000\n",
      "***************************\n",
      "count    6.000000\n",
      "mean     1.933333\n",
      "std      0.943751\n",
      "min      0.800000\n",
      "25%      1.500000\n",
      "50%      1.650000\n",
      "75%      2.325000\n",
      "max      3.500000\n",
      "Name: price, dtype: float64\n",
      "***************************\n",
      "good    3\n",
      "bad     2\n",
      "best    1\n",
      "Name: condit, dtype: int64\n",
      "var:\n",
      " 0.8906666666666666\n",
      "std:\n",
      " 0.9437513796899407\n"
     ]
    }
   ],
   "source": [
    "import pandas as pd\n",
    "data_des = pd.read_csv('fruit.csv',index_col='id')\n",
    "print('data:\\n',data_des)\n",
    "print('***************************')\n",
    "print(data_des.describe())\n",
    "print('***************************')\n",
    "print(data_des.price.describe())\n",
    "print('***************************')\n",
    "print(data_des['condit'].value_counts())#相当于sql里面的groupby和count\n",
    "var = data_des.price.var()#方差\n",
    "std = data_des.price.std()#标准差\n",
    "print('var:\\n',var)\n",
    "print('std:\\n',std)"
   ]
  },
  {
   "cell_type": "code",
   "execution_count": 67,
   "metadata": {},
   "outputs": [
    {
     "name": "stdout",
     "output_type": "stream",
     "text": [
      "corr: 0.97631083932\n",
      "corr_cc: 0.97631083932\n"
     ]
    }
   ],
   "source": [
    "#相关系数\n",
    "corr = data_des.price.corr(data_des.sale)\n",
    "print('corr:',corr)\n",
    "#数学方法 --- 协方差/(标准差*标准差)\n",
    "cov = data_des.price.cov(data_des.sale)\n",
    "std_price = data_des.price.std()\n",
    "std_sale = data_des.sale.std()\n",
    "corr_cc = cov/(std_price*std_sale)\n",
    "print('corr_cc:',corr_cc)"
   ]
  },
  {
   "cell_type": "markdown",
   "metadata": {},
   "source": [
    "#### 模型评估 交叉验证\n",
    "- 离散：精确率、召回率、F值\n",
    "- 连续：均方误差、均方根误差、判定系数R^2\n",
    "- 交叉验证：数据分为训练集和测试集\n",
    "- K折交叉验证：K次交叉验证之后误差取均值\n",
    "- 校验集：用来调整模型参数的数据集；于是数据划分为，训练集、校验集、测试集\n"
   ]
  },
  {
   "cell_type": "markdown",
   "metadata": {},
   "source": [
    "#### 词袋模型\n",
    "TF-IDF\n",
    "- TF：词频，同一文档中出现越多TF越高\n",
    "- IDF：逆文档词频，所有文档中出现次数少的词IDF高，因为其更有代表性\n"
   ]
  },
  {
   "cell_type": "markdown",
   "metadata": {},
   "source": [
    "### 0x6 算法\n",
    "#### knn\n",
    "- 一种实现：根据一个点的k个最近邻的类别进行学习\n",
    "- 另外一种实现：固定距离r，根据r内的近邻类别来进行学习;采样不均匀时这种方法更有效；稀疏空间中的点使用较少的近邻来分类，在高维因为维数灾难的影响而不那么有效；\n",
    "- 需要某种距离的概念以及接近的点性质相似这样的假设\n",
    "- 可用于分类、回归\n",
    "- 一种惰性算法\n",
    "- k的取值和具体问题的规模相关。可以尝试多个k值，根据交叉验证的结果选择一个\n",
    "- 一些情况下加权计算会使结果更准确\n",
    "- 对训练样本进行过滤可以减少计算量\n",
    "- 使用优化了的数据结构可以快速找到近邻\n",
    "- 多分类时，出现并列的结果时，可采取的策略：随机选取一个、选择加权投票最多的、减小k值直到找到结果\n"
   ]
  },
  {
   "cell_type": "markdown",
   "metadata": {
    "collapsed": true
   },
   "source": [
    "#### kmeans\n",
    "- 无监督聚类算法，不需要提供训练样本，实现简单\n",
    "- 迭代时计算量大，K值的选取对结果影响较大\n",
    "- 相似性如何度量"
   ]
  },
  {
   "cell_type": "code",
   "execution_count": 27,
   "metadata": {},
   "outputs": [
    {
     "data": {
      "text/plain": [
       "<matplotlib.text.Text at 0x7fabe7b4ac18>"
      ]
     },
     "execution_count": 27,
     "metadata": {},
     "output_type": "execute_result"
    },
    {
     "data": {
      "image/png": "[encoded data removed]",
      "text/plain": [
       "<matplotlib.figure.Figure at 0x7fabf41bba90>"
      ]
     },
     "metadata": {},
     "output_type": "display_data"
    }
   ],
   "source": [
    "from sklearn.cluster import KMeans\n",
    "from sklearn.datasets import load_iris\n",
    "from sklearn.preprocessing import StandardScaler\n",
    "\n",
    "iris = load_iris()\n",
    "data_X = iris.data\n",
    "data_y = iris.target\n",
    "# 标准化数据\n",
    "scaler =StandardScaler()\n",
    "data = scaler.fit_transform(data_X)\n",
    "#kmeans\n",
    "km = KMeans(n_clusters=3,init='k-means++',n_init=10,max_iter=300,n_jobs=-1)\n",
    "km.fit(data)\n",
    "pred = km.predict(data)\n",
    "# print('pred:\\n',pred) #预测的标签和原数据的标签无关，只是代表着相同标签的样本可能是一个类别的\n",
    "# print(['data_y',data_y])\n",
    "from sklearn.decomposition import PCA\n",
    "#2d\n",
    "pca = PCA(n_components=2)\n",
    "feasures = pca.fit_transform(data_X)\n",
    "\n",
    "% matplotlib inline\n",
    "import matplotlib.pyplot as plt\n",
    "\n",
    "\n",
    "plt.figure(figsize=(12,12))\n",
    "plt.subplot(221)\n",
    "color={0:'r',1:'g',2:'b'}\n",
    "plt.scatter(feasures[:,0],feasures[:,1],c=[color[_] for _ in pred])\n",
    "plt.title(\"kmeans\")\n",
    "\n",
    "plt.subplot(222)\n",
    "plt.scatter(feasures[:,0],feasures[:,1],c=[color[_] for _ in data_y])\n",
    "plt.title(\"origin\")"
   ]
  },
  {
   "cell_type": "markdown",
   "metadata": {},
   "source": [
    "#### 朴素贝叶斯\n",
    "- 需要预先给定训练样本数据，算法通过训练样本统计先验概率，利用贝叶斯公式计算后验概率，选择具有最大后验概率的类作为该对象所属的类。\n",
    "- 先验概率：在没有任何前提知识的情况下事件发生的概率\n",
    "- 后验概率：即条件概率\n",
    "- 复合概率：多个事件同时发生的情况下，某事件发生的概率\n",
    "- 朴素：假设特征之间相互独立\n",
    "- 不同的贝叶斯算法在实现时对特征的概率分布做了不同的假设，对于连续型高斯分布数据使用高斯模型；离散的二值分布使用伯努利(二项)模型；离散的计数型数据使用多项式分布"
   ]
  },
  {
   "cell_type": "code",
   "execution_count": 45,
   "metadata": {},
   "outputs": [
    {
     "name": "stdout",
     "output_type": "stream",
     "text": [
      "Text:[data is more and more important.we should take care of its security] \n",
      "\tProb:0.986|0.01|0.005 \n",
      "\tLabel:0\n",
      "Text:[i always play football during my free time ,it's fun and i can kill time] \n",
      "\tProb:0.005|0.019|0.976 \n",
      "\tLabel:2\n"
     ]
    }
   ],
   "source": [
    "import re\n",
    "import pandas as pd\n",
    "from sklearn.naive_bayes import MultinomialNB\n",
    "from sklearn.feature_extraction.text import CountVectorizer\n",
    "\n",
    "def to_vec(train,test):\n",
    "    ch_vec = CountVectorizer(max_df=0.95, min_df=2,stop_words='english')\n",
    "    dfdata = pd.concat([train,test])\n",
    "    data = ch_vec.fit_transform(dfdata.as_matrix())\n",
    "    data = data.toarray()\n",
    "    return data[:train.shape[0]],data[train.shape[0]:]\n",
    "\n",
    "def to_bayes(train_vec,target_label,test_vec):\n",
    "    model = MultinomialNB(alpha=0.01)\n",
    "    model.fit(train_vec,target_label)\n",
    "    pred_label = model.predict(test_vec)\n",
    "    pred_label_proba = model.predict_proba(test_vec)\n",
    "    \n",
    "    return pred_label,pred_label_proba\n",
    "\n",
    "def main():\n",
    "    #0 数据挖掘   1 艺术  2 游戏\n",
    "    train=[('Data mining is the computing process of discovering patterns in large data sets involving methods at the intersection of machine learning, statistics, and database systems.It is an interdisciplinary subfield of computer science.The overall goal of the data mining process is to extract information from a data set and transform it into an understandable structure for further use.',0),\n",
    "           (\"Art is a diverse range of human activities in creating visual, auditory or performing artifacts (artworks), expressing the author's imaginative or technical skill, intended to be appreciated for their beauty or emotional power\",1),\n",
    "           (\"A game is a structured form of play, usually undertaken for enjoyment and sometimes used as an educational tool.Games are distinct from work, which is usually carried out for remuneration, and from art, which is more often an expression of aesthetic or ideological elements.\",2)]\n",
    "    #测试：数据越来越重要，我们应该关注其安全性；我平时靠打篮球打发时间，很有趣\n",
    "    test=[\"data is more and more important.we should take care of its security\",\"i always play football during my free time ,it's fun and i can kill time\"]\n",
    "    \n",
    "    df_train=pd.DataFrame(train,columns=[\"raw\",\"label\"])\n",
    "    df_test=pd.DataFrame(test,columns=[\"raw\"])\n",
    "    train_vec,test_vec = to_vec(df_train['raw'],df_test['raw'])\n",
    "    \n",
    "    pred_label,pred_label_proba =  to_bayes(train_vec,df_train['label'],test_vec)\n",
    "    for txt,label,prob in zip(test,pred_label,pred_label_proba):\n",
    "        prob = '|'.join([str(round(_,3)) for _ in prob])#小数点后取三位\n",
    "        print('Text:[{}] \\n\\tProb:{} \\n\\tLabel:{}'.format(txt,prob,label))\n",
    "\n",
    "if __name__ == '__main__':\n",
    "    main()\n",
    "    "
   ]
  },
  {
   "cell_type": "markdown",
   "metadata": {
    "collapsed": true
   },
   "source": [
    "#### 决策树：\n",
    "- 二叉树，左右分支，中间一个判断条件，一层层往下可以递归构建。问题是，当前节点应该选择哪个条件进行分割。\n",
    "- 目的是构建一棵最优的二叉分割树，从根节点往下，每一个节点都使用将当前数据集尽量分得开的条件\n",
    "- 常用算法有ID3、C4.5、C5.0和CART，前三种使用熵的信息增益来构建；最后一种用于分类时，使用基尼系数、熵的信息增益，用于回归时使用方差降低算法（类似于MSE）\n",
    "- 主要步骤：根据不同条件划分数据；计算某种指标选择最优；"
   ]
  },
  {
   "cell_type": "code",
   "execution_count": 6,
   "metadata": {},
   "outputs": [
    {
     "name": "stdout",
     "output_type": "stream",
     "text": [
      "DecisionTreeClassifier(class_weight=None, criterion='gini', max_depth=None,\n",
      "            max_features=None, max_leaf_nodes=None,\n",
      "            min_impurity_split=1e-07, min_samples_leaf=1,\n",
      "            min_samples_split=2, min_weight_fraction_leaf=0.0,\n",
      "            presort=False, random_state=None, splitter='best')\n",
      "[1]\n"
     ]
    }
   ],
   "source": [
    "from sklearn.tree import DecisionTreeClassifier\n",
    "import pandas as pd\n",
    "df = pd.read_csv('date.csv')\n",
    "train,test = df.query(\"is_date != -1\"),df.query(\"is_date == -1\")\n",
    "train_y,train_X = train['is_date'],train.drop(['is_date'],axis=1)\n",
    "test_X = test.drop(['is_date'],axis=1)\n",
    "dct = DecisionTreeClassifier(criterion='gini') #构建决策树的关键\n",
    "dct.fit(train_X,train_y)\n",
    "print(dct)\n",
    "print(dct.predict(test_X))"
   ]
  },
  {
   "cell_type": "markdown",
   "metadata": {},
   "source": [
    "#### 随机森林\n",
    "- 完全生长的决策树会带来过拟合问题，一种应对策略是剪枝，另一种是构建随机森林\n",
    "- 集成算法的结果由各个基算法（加权|不加权）投票（分类问题）或者取均值（回归问题）得来\n",
    "- 集成算法分两类：bagging和boosting，随机森林属于bagging\n",
    "- 随机森林的每一棵决策树应该尽可能的**好而不同**，好是说每棵决策树的正确率至少要强于随机猜测的，不同是指如果大家的预测都一样那么集成之后并不能提高准确率\n",
    "- 随机体现在：随机有放回地抽取数据进行训练，数量可以和原数据相同也可以略小；随机选N个特征，选最好的一个进行分裂；在N个最好的特征中，随机选择一个进行分裂；\n",
    "- 每棵树之间都是独立构建的，非常适合**并行处理**\n",
    "- 决策树的可解释性强，随机森林因为引入随机性可解释性变弱了\n",
    "- 随机森林解决了决策树的过拟合问题，模型的稳定性、鲁棒性更高\n",
    "- 模型可能很大，适合离线处理"
   ]
  },
  {
   "cell_type": "code",
   "execution_count": 13,
   "metadata": {},
   "outputs": [
    {
     "name": "stdout",
     "output_type": "stream",
     "text": [
      "[1]\n",
      "[('handsome', 0.37898412698412698), ('height', 0.21541269841269842), ('house', 0.15202222222222223), ('car', 0.12181904761904763), ('job', 0.11176190476190477)]\n"
     ]
    }
   ],
   "source": [
    "from sklearn.ensemble import RandomForestClassifier\n",
    "import pandas as pd\n",
    "df = pd.read_csv('date.csv')\n",
    "train,test = df.query(\"is_date != -1\"),df.query(\"is_date == -1\")\n",
    "train_y,train_X = train['is_date'],train.drop(['is_date'],axis=1)\n",
    "test_X = test.drop(['is_date'],axis=1)\n",
    "model = RandomForestClassifier(n_estimators=50,criterion='gini',max_features=\"sqrt\",min_samples_leaf=1,n_jobs=-1)\n",
    "model.fit(train_X,train_y)\n",
    "print(model.predict(test_X))\n",
    "importance = zip(train_X.columns,model.feature_importances_)\n",
    "print (sorted(importance,key=lambda x:x[1],reverse=True))"
   ]
  }
 ],
 "metadata": {
  "kernelspec": {
   "display_name": "Python 3",
   "language": "python",
   "name": "python3"
  },
  "language_info": {
   "codemirror_mode": {
    "name": "ipython",
    "version": 3
   },
   "file_extension": ".py",
   "mimetype": "text/x-python",
   "name": "python",
   "nbconvert_exporter": "python",
   "pygments_lexer": "ipython3",
   "version": "3.6.1"
  }
 },
 "nbformat": 4,
 "nbformat_minor": 2
}
